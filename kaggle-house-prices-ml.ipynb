{
 "cells": [
  {
   "cell_type": "markdown",
   "id": "7cf394e2",
   "metadata": {
    "papermill": {
     "duration": 0.002478,
     "end_time": "2023-01-04T05:49:26.841683",
     "exception": false,
     "start_time": "2023-01-04T05:49:26.839205",
     "status": "completed"
    },
    "tags": []
   },
   "source": [
    "## Intro\n",
    "\n",
    "- Kaggle Project: [House Prices - Advanced Regression Techniques](https://www.kaggle.com/competitions/house-prices-advanced-regression-techniques/overview). Predict sales prices and practice feature engineering, RFs, and gradient boosting.\n",
    "- Team: Yummy Donuts from [Data Donut](https://discord.gg/7fkzYbDxAh)\n",
    "  - [Tina Yu](https://github.com/TinaHTYu)\n",
    "  - [Zacks Shen](https://github.com/ZacksAmber)\n",
    "- [Dataset Description](https://www.kaggle.com/competitions/house-prices-advanced-regression-techniques/data)"
   ]
  },
  {
   "cell_type": "code",
   "execution_count": 1,
   "id": "4e398b23",
   "metadata": {
    "_cell_guid": "b1076dfc-b9ad-4769-8c92-a6c4dae69d19",
    "_uuid": "8f2839f25d086af736a60e9eeb907d3b93b6e0e5",
    "execution": {
     "iopub.execute_input": "2023-01-04T05:49:26.847122Z",
     "iopub.status.busy": "2023-01-04T05:49:26.846675Z",
     "iopub.status.idle": "2023-01-04T05:49:26.860132Z",
     "shell.execute_reply": "2023-01-04T05:49:26.858628Z"
    },
    "papermill": {
     "duration": 0.01946,
     "end_time": "2023-01-04T05:49:26.863122",
     "exception": false,
     "start_time": "2023-01-04T05:49:26.843662",
     "status": "completed"
    },
    "tags": []
   },
   "outputs": [
    {
     "name": "stdout",
     "output_type": "stream",
     "text": [
      "/kaggle/input/house-prices-advanced-regression-techniques/sample_submission.csv\n",
      "/kaggle/input/house-prices-advanced-regression-techniques/data_description.txt\n",
      "/kaggle/input/house-prices-advanced-regression-techniques/train.csv\n",
      "/kaggle/input/house-prices-advanced-regression-techniques/test.csv\n"
     ]
    }
   ],
   "source": [
    "# This Python 3 environment comes with many helpful analytics libraries installed\n",
    "# It is defined by the kaggle/python Docker image: https://github.com/kaggle/docker-python\n",
    "# For example, here's several helpful packages to load\n",
    "\n",
    "import numpy as np # linear algebra\n",
    "import pandas as pd # data processing, CSV file I/O (e.g. pd.read_csv)\n",
    "\n",
    "# Input data files are available in the read-only \"../input/\" directory\n",
    "# For example, running this (by clicking run or pressing Shift+Enter) will list all files under the input directory\n",
    "\n",
    "import os\n",
    "for dirname, _, filenames in os.walk('/kaggle/input'):\n",
    "    for filename in filenames:\n",
    "        print(os.path.join(dirname, filename))\n",
    "\n",
    "# You can write up to 20GB to the current directory (/kaggle/working/) that gets preserved as output when you create a version using \"Save & Run All\" \n",
    "# You can also write temporary files to /kaggle/temp/, but they won't be saved outside of the current session"
   ]
  },
  {
   "cell_type": "code",
   "execution_count": 2,
   "id": "869150e6",
   "metadata": {
    "execution": {
     "iopub.execute_input": "2023-01-04T05:49:26.869043Z",
     "iopub.status.busy": "2023-01-04T05:49:26.868698Z",
     "iopub.status.idle": "2023-01-04T05:49:26.874198Z",
     "shell.execute_reply": "2023-01-04T05:49:26.872588Z"
    },
    "papermill": {
     "duration": 0.011297,
     "end_time": "2023-01-04T05:49:26.876880",
     "exception": false,
     "start_time": "2023-01-04T05:49:26.865583",
     "status": "completed"
    },
    "tags": []
   },
   "outputs": [
    {
     "name": "stdout",
     "output_type": "stream",
     "text": [
      "Test for GitHub sync\n"
     ]
    }
   ],
   "source": [
    "print(\"Test for GitHub sync\")"
   ]
  },
  {
   "cell_type": "code",
   "execution_count": null,
   "id": "724e4710",
   "metadata": {
    "papermill": {
     "duration": 0.001662,
     "end_time": "2023-01-04T05:49:26.880481",
     "exception": false,
     "start_time": "2023-01-04T05:49:26.878819",
     "status": "completed"
    },
    "tags": []
   },
   "outputs": [],
   "source": []
  }
 ],
 "metadata": {
  "kernelspec": {
   "display_name": "Python 3",
   "language": "python",
   "name": "python3"
  },
  "language_info": {
   "codemirror_mode": {
    "name": "ipython",
    "version": 3
   },
   "file_extension": ".py",
   "mimetype": "text/x-python",
   "name": "python",
   "nbconvert_exporter": "python",
   "pygments_lexer": "ipython3",
   "version": "3.7.12"
  },
  "papermill": {
   "default_parameters": {},
   "duration": 8.019037,
   "end_time": "2023-01-04T05:49:27.503071",
   "environment_variables": {},
   "exception": null,
   "input_path": "__notebook__.ipynb",
   "output_path": "__notebook__.ipynb",
   "parameters": {},
   "start_time": "2023-01-04T05:49:19.484034",
   "version": "2.3.4"
  }
 },
 "nbformat": 4,
 "nbformat_minor": 5
}
