{
 "cells": [
  {
   "cell_type": "markdown",
   "id": "7824679b",
   "metadata": {
    "papermill": {
     "duration": 0.007376,
     "end_time": "2023-01-10T08:01:50.495333",
     "exception": false,
     "start_time": "2023-01-10T08:01:50.487957",
     "status": "completed"
    },
    "tags": []
   },
   "source": [
    "## Intro\n",
    "\n",
    "- Kaggle Project: [House Prices - Advanced Regression Techniques](https://www.kaggle.com/competitions/house-prices-advanced-regression-techniques/overview). Predict sales prices and practice feature engineering, RFs, and gradient boosting.\n",
    "- [GitHub](https://github.com/ZacksAmber/kaggle-house-prices-advanced-regression-techniques)\n",
    "- Team: Yummy Donuts from [Data Donut](https://discord.gg/7fkzYbDxAh)\n",
    "  - [Tina Yu](https://github.com/TinaHTYu)\n",
    "  - [Zacks Shen](https://github.com/ZacksAmber)\n",
    "- [Dataset Description](https://www.kaggle.com/competitions/house-prices-advanced-regression-techniques/data)"
   ]
  },
  {
   "cell_type": "code",
   "execution_count": 1,
   "id": "c54ef5fa",
   "metadata": {
    "_cell_guid": "b1076dfc-b9ad-4769-8c92-a6c4dae69d19",
    "_uuid": "8f2839f25d086af736a60e9eeb907d3b93b6e0e5",
    "execution": {
     "iopub.execute_input": "2023-01-10T08:01:50.510563Z",
     "iopub.status.busy": "2023-01-10T08:01:50.509941Z",
     "iopub.status.idle": "2023-01-10T08:01:52.214910Z",
     "shell.execute_reply": "2023-01-10T08:01:52.213462Z"
    },
    "papermill": {
     "duration": 1.716136,
     "end_time": "2023-01-10T08:01:52.218307",
     "exception": false,
     "start_time": "2023-01-10T08:01:50.502171",
     "status": "completed"
    },
    "tags": []
   },
   "outputs": [
    {
     "name": "stdout",
     "output_type": "stream",
     "text": [
      "/kaggle/input/house-prices-advanced-regression-techniques/sample_submission.csv\n",
      "/kaggle/input/house-prices-advanced-regression-techniques/data_description.txt\n",
      "/kaggle/input/house-prices-advanced-regression-techniques/train.csv\n",
      "/kaggle/input/house-prices-advanced-regression-techniques/test.csv\n"
     ]
    }
   ],
   "source": [
    "# This Python 3 environment comes with many helpful analytics libraries installed\n",
    "# It is defined by the kaggle/python Docker image: https://github.com/kaggle/docker-python\n",
    "# For example, here's several helpful packages to load\n",
    "\n",
    "from plotly.subplots import make_subplots\n",
    "from sklearn.feature_selection import mutual_info_regression\n",
    "\n",
    "import math\n",
    "import numpy as np # linear algebra\n",
    "import pandas as pd # data processing, CSV file I/O (e.g. pd.read_csv)\n",
    "import plotly.graph_objects as go\n",
    "import matplotlib.pyplot as plt\n",
    "import seaborn as sns\n",
    "\n",
    "# Input data files are available in the read-only \"../input/\" directory\n",
    "# For example, running this (by clicking run or pressing Shift+Enter) will list all files under the input directory\n",
    "\n",
    "import os\n",
    "for dirname, _, filenames in os.walk('/kaggle/input'):\n",
    "    for filename in filenames:\n",
    "        print(os.path.join(dirname, filename))\n",
    "\n",
    "# You can write up to 20GB to the current directory (/kaggle/working/) that gets preserved as output when you create a version using \"Save & Run All\" \n",
    "# You can also write temporary files to /kaggle/temp/, but they won't be saved outside of the current session"
   ]
  },
  {
   "cell_type": "code",
   "execution_count": 2,
   "id": "c7396f2d",
   "metadata": {
    "execution": {
     "iopub.execute_input": "2023-01-10T08:01:52.235090Z",
     "iopub.status.busy": "2023-01-10T08:01:52.234570Z",
     "iopub.status.idle": "2023-01-10T08:01:52.325119Z",
     "shell.execute_reply": "2023-01-10T08:01:52.323588Z"
    },
    "papermill": {
     "duration": 0.102768,
     "end_time": "2023-01-10T08:01:52.328212",
     "exception": false,
     "start_time": "2023-01-10T08:01:52.225444",
     "status": "completed"
    },
    "tags": []
   },
   "outputs": [],
   "source": [
    "train = pd.read_csv('/kaggle/input/house-prices-advanced-regression-techniques/train.csv')\n",
    "test = pd.read_csv('/kaggle/input/house-prices-advanced-regression-techniques/test.csv')"
   ]
  },
  {
   "cell_type": "code",
   "execution_count": 3,
   "id": "7b91b16b",
   "metadata": {
    "execution": {
     "iopub.execute_input": "2023-01-10T08:01:52.344138Z",
     "iopub.status.busy": "2023-01-10T08:01:52.343607Z",
     "iopub.status.idle": "2023-01-10T08:01:52.597463Z",
     "shell.execute_reply": "2023-01-10T08:01:52.596067Z"
    },
    "papermill": {
     "duration": 0.264881,
     "end_time": "2023-01-10T08:01:52.600625",
     "exception": false,
     "start_time": "2023-01-10T08:01:52.335744",
     "status": "completed"
    },
    "tags": []
   },
   "outputs": [],
   "source": [
    "google_sheet_id = \"1a9Xujf0RRGkbuMQxRL378L0dNUcwc2bz-GVxzeTmsT4\"\n",
    "google_sheet_url = f\"https://docs.google.com/spreadsheets/d/{google_sheet_id}/gviz/tq?tqx=out:csv&sheet=\"\n",
    "Metadata = pd.read_csv(google_sheet_url + 'features')"
   ]
  },
  {
   "cell_type": "code",
   "execution_count": 4,
   "id": "ec883280",
   "metadata": {
    "execution": {
     "iopub.execute_input": "2023-01-10T08:01:52.617090Z",
     "iopub.status.busy": "2023-01-10T08:01:52.615898Z",
     "iopub.status.idle": "2023-01-10T08:01:52.656355Z",
     "shell.execute_reply": "2023-01-10T08:01:52.655059Z"
    },
    "papermill": {
     "duration": 0.052802,
     "end_time": "2023-01-10T08:01:52.660561",
     "exception": false,
     "start_time": "2023-01-10T08:01:52.607759",
     "status": "completed"
    },
    "tags": []
   },
   "outputs": [
    {
     "data": {
      "text/html": [
       "<div>\n",
       "<style scoped>\n",
       "    .dataframe tbody tr th:only-of-type {\n",
       "        vertical-align: middle;\n",
       "    }\n",
       "\n",
       "    .dataframe tbody tr th {\n",
       "        vertical-align: top;\n",
       "    }\n",
       "\n",
       "    .dataframe thead th {\n",
       "        text-align: right;\n",
       "    }\n",
       "</style>\n",
       "<table border=\"1\" class=\"dataframe\">\n",
       "  <thead>\n",
       "    <tr style=\"text-align: right;\">\n",
       "      <th></th>\n",
       "      <th>Id</th>\n",
       "      <th>MSSubClass</th>\n",
       "      <th>MSZoning</th>\n",
       "      <th>LotFrontage</th>\n",
       "      <th>LotArea</th>\n",
       "      <th>Street</th>\n",
       "      <th>Alley</th>\n",
       "      <th>LotShape</th>\n",
       "      <th>LandContour</th>\n",
       "      <th>Utilities</th>\n",
       "      <th>...</th>\n",
       "      <th>PoolArea</th>\n",
       "      <th>PoolQC</th>\n",
       "      <th>Fence</th>\n",
       "      <th>MiscFeature</th>\n",
       "      <th>MiscVal</th>\n",
       "      <th>MoSold</th>\n",
       "      <th>YrSold</th>\n",
       "      <th>SaleType</th>\n",
       "      <th>SaleCondition</th>\n",
       "      <th>SalePrice</th>\n",
       "    </tr>\n",
       "  </thead>\n",
       "  <tbody>\n",
       "    <tr>\n",
       "      <th>0</th>\n",
       "      <td>1</td>\n",
       "      <td>60</td>\n",
       "      <td>RL</td>\n",
       "      <td>65.0</td>\n",
       "      <td>8450</td>\n",
       "      <td>Pave</td>\n",
       "      <td>NaN</td>\n",
       "      <td>Reg</td>\n",
       "      <td>Lvl</td>\n",
       "      <td>AllPub</td>\n",
       "      <td>...</td>\n",
       "      <td>0</td>\n",
       "      <td>NaN</td>\n",
       "      <td>NaN</td>\n",
       "      <td>NaN</td>\n",
       "      <td>0</td>\n",
       "      <td>2</td>\n",
       "      <td>2008</td>\n",
       "      <td>WD</td>\n",
       "      <td>Normal</td>\n",
       "      <td>208500</td>\n",
       "    </tr>\n",
       "    <tr>\n",
       "      <th>1</th>\n",
       "      <td>2</td>\n",
       "      <td>20</td>\n",
       "      <td>RL</td>\n",
       "      <td>80.0</td>\n",
       "      <td>9600</td>\n",
       "      <td>Pave</td>\n",
       "      <td>NaN</td>\n",
       "      <td>Reg</td>\n",
       "      <td>Lvl</td>\n",
       "      <td>AllPub</td>\n",
       "      <td>...</td>\n",
       "      <td>0</td>\n",
       "      <td>NaN</td>\n",
       "      <td>NaN</td>\n",
       "      <td>NaN</td>\n",
       "      <td>0</td>\n",
       "      <td>5</td>\n",
       "      <td>2007</td>\n",
       "      <td>WD</td>\n",
       "      <td>Normal</td>\n",
       "      <td>181500</td>\n",
       "    </tr>\n",
       "    <tr>\n",
       "      <th>2</th>\n",
       "      <td>3</td>\n",
       "      <td>60</td>\n",
       "      <td>RL</td>\n",
       "      <td>68.0</td>\n",
       "      <td>11250</td>\n",
       "      <td>Pave</td>\n",
       "      <td>NaN</td>\n",
       "      <td>IR1</td>\n",
       "      <td>Lvl</td>\n",
       "      <td>AllPub</td>\n",
       "      <td>...</td>\n",
       "      <td>0</td>\n",
       "      <td>NaN</td>\n",
       "      <td>NaN</td>\n",
       "      <td>NaN</td>\n",
       "      <td>0</td>\n",
       "      <td>9</td>\n",
       "      <td>2008</td>\n",
       "      <td>WD</td>\n",
       "      <td>Normal</td>\n",
       "      <td>223500</td>\n",
       "    </tr>\n",
       "    <tr>\n",
       "      <th>3</th>\n",
       "      <td>4</td>\n",
       "      <td>70</td>\n",
       "      <td>RL</td>\n",
       "      <td>60.0</td>\n",
       "      <td>9550</td>\n",
       "      <td>Pave</td>\n",
       "      <td>NaN</td>\n",
       "      <td>IR1</td>\n",
       "      <td>Lvl</td>\n",
       "      <td>AllPub</td>\n",
       "      <td>...</td>\n",
       "      <td>0</td>\n",
       "      <td>NaN</td>\n",
       "      <td>NaN</td>\n",
       "      <td>NaN</td>\n",
       "      <td>0</td>\n",
       "      <td>2</td>\n",
       "      <td>2006</td>\n",
       "      <td>WD</td>\n",
       "      <td>Abnorml</td>\n",
       "      <td>140000</td>\n",
       "    </tr>\n",
       "    <tr>\n",
       "      <th>4</th>\n",
       "      <td>5</td>\n",
       "      <td>60</td>\n",
       "      <td>RL</td>\n",
       "      <td>84.0</td>\n",
       "      <td>14260</td>\n",
       "      <td>Pave</td>\n",
       "      <td>NaN</td>\n",
       "      <td>IR1</td>\n",
       "      <td>Lvl</td>\n",
       "      <td>AllPub</td>\n",
       "      <td>...</td>\n",
       "      <td>0</td>\n",
       "      <td>NaN</td>\n",
       "      <td>NaN</td>\n",
       "      <td>NaN</td>\n",
       "      <td>0</td>\n",
       "      <td>12</td>\n",
       "      <td>2008</td>\n",
       "      <td>WD</td>\n",
       "      <td>Normal</td>\n",
       "      <td>250000</td>\n",
       "    </tr>\n",
       "  </tbody>\n",
       "</table>\n",
       "<p>5 rows × 81 columns</p>\n",
       "</div>"
      ],
      "text/plain": [
       "   Id  MSSubClass MSZoning  LotFrontage  LotArea Street Alley LotShape  \\\n",
       "0   1          60       RL         65.0     8450   Pave   NaN      Reg   \n",
       "1   2          20       RL         80.0     9600   Pave   NaN      Reg   \n",
       "2   3          60       RL         68.0    11250   Pave   NaN      IR1   \n",
       "3   4          70       RL         60.0     9550   Pave   NaN      IR1   \n",
       "4   5          60       RL         84.0    14260   Pave   NaN      IR1   \n",
       "\n",
       "  LandContour Utilities  ... PoolArea PoolQC Fence MiscFeature MiscVal MoSold  \\\n",
       "0         Lvl    AllPub  ...        0    NaN   NaN         NaN       0      2   \n",
       "1         Lvl    AllPub  ...        0    NaN   NaN         NaN       0      5   \n",
       "2         Lvl    AllPub  ...        0    NaN   NaN         NaN       0      9   \n",
       "3         Lvl    AllPub  ...        0    NaN   NaN         NaN       0      2   \n",
       "4         Lvl    AllPub  ...        0    NaN   NaN         NaN       0     12   \n",
       "\n",
       "  YrSold  SaleType  SaleCondition  SalePrice  \n",
       "0   2008        WD         Normal     208500  \n",
       "1   2007        WD         Normal     181500  \n",
       "2   2008        WD         Normal     223500  \n",
       "3   2006        WD        Abnorml     140000  \n",
       "4   2008        WD         Normal     250000  \n",
       "\n",
       "[5 rows x 81 columns]"
      ]
     },
     "execution_count": 4,
     "metadata": {},
     "output_type": "execute_result"
    }
   ],
   "source": [
    "train.head()"
   ]
  },
  {
   "cell_type": "markdown",
   "id": "754505ca",
   "metadata": {
    "_kg_hide-input": true,
    "papermill": {
     "duration": 0.006146,
     "end_time": "2023-01-10T08:01:52.673594",
     "exception": false,
     "start_time": "2023-01-10T08:01:52.667448",
     "status": "completed"
    },
    "tags": []
   },
   "source": [
    "---\n",
    "\n",
    "## Metadata"
   ]
  },
  {
   "cell_type": "code",
   "execution_count": 5,
   "id": "752607fa",
   "metadata": {
    "_kg_hide-input": true,
    "execution": {
     "iopub.execute_input": "2023-01-10T08:01:52.690855Z",
     "iopub.status.busy": "2023-01-10T08:01:52.689893Z",
     "iopub.status.idle": "2023-01-10T08:01:52.697706Z",
     "shell.execute_reply": "2023-01-10T08:01:52.696671Z"
    },
    "papermill": {
     "duration": 0.019725,
     "end_time": "2023-01-10T08:01:52.700594",
     "exception": false,
     "start_time": "2023-01-10T08:01:52.680869",
     "status": "completed"
    },
    "tags": []
   },
   "outputs": [],
   "source": [
    "# metadata is from https://www.kaggle.com/competitions/house-prices-advanced-regression-techniques/data\n",
    "# To keep the features have the same name in dataset, we need to manual edit the following:\n",
    "# SalePrice -  -> SalePrice:\n",
    "# Bedroom -> BedroomAbvGr\n",
    "# Kitchen -> KitchenAbvGr\n",
    "metadata = \"\"\"SalePrice: the property's sale price in dollars. This is the target variable that you're trying to predict.\n",
    "MSSubClass: The building class\n",
    "MSZoning: The general zoning classification\n",
    "LotFrontage: Linear feet of street connected to property\n",
    "LotArea: Lot size in square feet\n",
    "Street: Type of road access\n",
    "Alley: Type of alley access\n",
    "LotShape: General shape of property\n",
    "LandContour: Flatness of the property\n",
    "Utilities: Type of utilities available\n",
    "LotConfig: Lot configuration\n",
    "LandSlope: Slope of property\n",
    "Neighborhood: Physical locations within Ames city limits\n",
    "Condition1: Proximity to main road or railroad\n",
    "Condition2: Proximity to main road or railroad (if a second is present)\n",
    "BldgType: Type of dwelling\n",
    "HouseStyle: Style of dwelling\n",
    "OverallQual: Overall material and finish quality\n",
    "OverallCond: Overall condition rating\n",
    "YearBuilt: Original construction date\n",
    "YearRemodAdd: Remodel date\n",
    "RoofStyle: Type of roof\n",
    "RoofMatl: Roof material\n",
    "Exterior1st: Exterior covering on house\n",
    "Exterior2nd: Exterior covering on house (if more than one material)\n",
    "MasVnrType: Masonry veneer type\n",
    "MasVnrArea: Masonry veneer area in square feet\n",
    "ExterQual: Exterior material quality\n",
    "ExterCond: Present condition of the material on the exterior\n",
    "Foundation: Type of foundation\n",
    "BsmtQual: Height of the basement\n",
    "BsmtCond: General condition of the basement\n",
    "BsmtExposure: Walkout or garden level basement walls\n",
    "BsmtFinType1: Quality of basement finished area\n",
    "BsmtFinSF1: Type 1 finished square feet\n",
    "BsmtFinType2: Quality of second finished area (if present)\n",
    "BsmtFinSF2: Type 2 finished square feet\n",
    "BsmtUnfSF: Unfinished square feet of basement area\n",
    "TotalBsmtSF: Total square feet of basement area\n",
    "Heating: Type of heating\n",
    "HeatingQC: Heating quality and condition\n",
    "CentralAir: Central air conditioning\n",
    "Electrical: Electrical system\n",
    "1stFlrSF: First Floor square feet\n",
    "2ndFlrSF: Second floor square feet\n",
    "LowQualFinSF: Low quality finished square feet (all floors)\n",
    "GrLivArea: Above grade (ground) living area square feet\n",
    "BsmtFullBath: Basement full bathrooms\n",
    "BsmtHalfBath: Basement half bathrooms\n",
    "FullBath: Full bathrooms above grade\n",
    "HalfBath: Half baths above grade\n",
    "BedroomAbvGr: Number of bedrooms above basement level\n",
    "KitchenAbvGr: Number of kitchens\n",
    "KitchenQual: Kitchen quality\n",
    "TotRmsAbvGrd: Total rooms above grade (does not include bathrooms)\n",
    "Functional: Home functionality rating\n",
    "Fireplaces: Number of fireplaces\n",
    "FireplaceQu: Fireplace quality\n",
    "GarageType: Garage location\n",
    "GarageYrBlt: Year garage was built\n",
    "GarageFinish: Interior finish of the garage\n",
    "GarageCars: Size of garage in car capacity\n",
    "GarageArea: Size of garage in square feet\n",
    "GarageQual: Garage quality\n",
    "GarageCond: Garage condition\n",
    "PavedDrive: Paved driveway\n",
    "WoodDeckSF: Wood deck area in square feet\n",
    "OpenPorchSF: Open porch area in square feet\n",
    "EnclosedPorch: Enclosed porch area in square feet\n",
    "3SsnPorch: Three season porch area in square feet\n",
    "ScreenPorch: Screen porch area in square feet\n",
    "PoolArea: Pool area in square feet\n",
    "PoolQC: Pool quality\n",
    "Fence: Fence quality\n",
    "MiscFeature: Miscellaneous feature not covered in other categories\n",
    "MiscVal: $Value of miscellaneous feature\n",
    "MoSold: Month Sold\n",
    "YrSold: Year Sold\n",
    "SaleType: Type of sale\n",
    "SaleCondition: Condition of sale\"\"\""
   ]
  },
  {
   "cell_type": "code",
   "execution_count": 6,
   "id": "70038e86",
   "metadata": {
    "execution": {
     "iopub.execute_input": "2023-01-10T08:01:52.718519Z",
     "iopub.status.busy": "2023-01-10T08:01:52.717772Z",
     "iopub.status.idle": "2023-01-10T08:01:52.731053Z",
     "shell.execute_reply": "2023-01-10T08:01:52.728956Z"
    },
    "papermill": {
     "duration": 0.027876,
     "end_time": "2023-01-10T08:01:52.735332",
     "exception": false,
     "start_time": "2023-01-10T08:01:52.707456",
     "status": "completed"
    },
    "tags": []
   },
   "outputs": [],
   "source": [
    "# Output Metadata\n",
    "def get_lines(string, train):\n",
    "    # -1 since no Id\n",
    "    n_cols = train.shape[1] - 1\n",
    "    # cols on Google Sheet: 0.col, 1.desc, 2.missing value ratio, \n",
    "    # 3.imputation, 4.source data type, 5.target data type, 6.variable type 7.encoding\n",
    "    cols, descs, source_data_types, missing_value_ratios = [], [], [], []\n",
    "    train_cols = train.columns\n",
    "    _missing_value_ratio = train.isnull().mean()\n",
    "    \n",
    "    # Split the string by the newline character to create a list of lines\n",
    "    lines = string.split('\\n')\n",
    "\n",
    "    for line in lines:\n",
    "        col, desc = line.split(': ')\n",
    "        source_data_type = str(train[col].dtype)\n",
    "        missing_value_ratio = round(_missing_value_ratio[col], 3)\n",
    "        \n",
    "        cols.append(col)\n",
    "        descs.append(desc)\n",
    "        source_data_types.append(source_data_type)\n",
    "        missing_value_ratios.append(missing_value_ratio)\n",
    "    \n",
    "    df = pd.DataFrame(\n",
    "        {'col': cols,\n",
    "         'desc': descs,\n",
    "         'missing value ratio': missing_value_ratios,\n",
    "         'source data type': source_data_types}\n",
    "    )\n",
    "    # Insert empty columns for analysis on Google Sheet\n",
    "    \n",
    "    df.insert(3, 'imputation', [None] * n_cols)\n",
    "    df.insert(5, 'target data type', [None] * n_cols)\n",
    "    df.insert(6, 'variable type', [None] * n_cols)\n",
    "    df.insert(7, 'encoding', [None] * n_cols)\n",
    "    \n",
    "    return df\n",
    "\n",
    "# Download this file from Kaggle notebook Output (see right panel),\n",
    "# then copy and paste the file content to a Google sheet\n",
    "# See https://docs.google.com/spreadsheets/d/1a9Xujf0RRGkbuMQxRL378L0dNUcwc2bz-GVxzeTmsT4\n",
    "# df = get_lines(metadata, train)\n",
    "# df.to_csv('meta_data.csv', index=False)"
   ]
  },
  {
   "cell_type": "markdown",
   "id": "9437104c",
   "metadata": {
    "papermill": {
     "duration": 0.007019,
     "end_time": "2023-01-10T08:01:52.751149",
     "exception": false,
     "start_time": "2023-01-10T08:01:52.744130",
     "status": "completed"
    },
    "tags": []
   },
   "source": [
    "---\n",
    "\n",
    "## Missing Values and Imputation Analysis "
   ]
  },
  {
   "cell_type": "markdown",
   "id": "5cef51ed",
   "metadata": {
    "papermill": {
     "duration": 0.006914,
     "end_time": "2023-01-10T08:01:52.764849",
     "exception": false,
     "start_time": "2023-01-10T08:01:52.757935",
     "status": "completed"
    },
    "tags": []
   },
   "source": [
    "- PoolQC: Not every house has a pool. -> Target\n",
    "- MiscFeature: extra features -> no drop\n",
    "- Alley: \n",
    "- Fence: \n",
    "- FireplaceQu: \n",
    "- LotFrontage: \n",
    "- GarageType: \n",
    "- GarageYrBlt: \n",
    "- GarageFinish: \n",
    "- GarageQual: \n",
    "- GarageCond: \n",
    "- BsmtExposure: \n",
    "- BsmtFinType2: \n",
    "- BsmtFinType1: \n",
    "- BsmtCond: \n",
    "- BsmtQual: \n",
    "- MasVnrArea: \n",
    "- MasVnrType: \n",
    "- Electrical: \n"
   ]
  },
  {
   "cell_type": "code",
   "execution_count": 7,
   "id": "b0f4373b",
   "metadata": {
    "execution": {
     "iopub.execute_input": "2023-01-10T08:01:52.783233Z",
     "iopub.status.busy": "2023-01-10T08:01:52.782691Z",
     "iopub.status.idle": "2023-01-10T08:01:52.816552Z",
     "shell.execute_reply": "2023-01-10T08:01:52.814500Z"
    },
    "papermill": {
     "duration": 0.046906,
     "end_time": "2023-01-10T08:01:52.819872",
     "exception": false,
     "start_time": "2023-01-10T08:01:52.772966",
     "status": "completed"
    },
    "tags": []
   },
   "outputs": [
    {
     "data": {
      "text/plain": [
       "PoolQC          0.995205\n",
       "MiscFeature     0.963014\n",
       "Alley           0.937671\n",
       "Fence           0.807534\n",
       "FireplaceQu     0.472603\n",
       "LotFrontage     0.177397\n",
       "GarageType      0.055479\n",
       "GarageYrBlt     0.055479\n",
       "GarageFinish    0.055479\n",
       "GarageQual      0.055479\n",
       "GarageCond      0.055479\n",
       "BsmtExposure    0.026027\n",
       "BsmtFinType2    0.026027\n",
       "BsmtFinType1    0.025342\n",
       "BsmtCond        0.025342\n",
       "BsmtQual        0.025342\n",
       "MasVnrArea      0.005479\n",
       "MasVnrType      0.005479\n",
       "Electrical      0.000685\n",
       "dtype: float64"
      ]
     },
     "execution_count": 7,
     "metadata": {},
     "output_type": "execute_result"
    }
   ],
   "source": [
    "# get categorical variables\n",
    "cat_cols = train.select_dtypes(include='object').columns\n",
    "\n",
    "# get cols with null\n",
    "cols_with_null = train.columns[train.isnull().any()]\n",
    "cols_with_null = train[cols_with_null].isnull().mean().sort_values(ascending=False).index\n",
    "\n",
    "# get cols of categorical variables with null\n",
    "cat_cols_with_null = cat_cols.intersection(cols_with_null)\n",
    "\n",
    "# get the missing value ratio\n",
    "train[cols_with_null].isnull().mean()"
   ]
  },
  {
   "cell_type": "code",
   "execution_count": 8,
   "id": "043e6476",
   "metadata": {
    "execution": {
     "iopub.execute_input": "2023-01-10T08:01:52.836225Z",
     "iopub.status.busy": "2023-01-10T08:01:52.834853Z",
     "iopub.status.idle": "2023-01-10T08:01:52.848945Z",
     "shell.execute_reply": "2023-01-10T08:01:52.847369Z"
    },
    "papermill": {
     "duration": 0.026017,
     "end_time": "2023-01-10T08:01:52.852785",
     "exception": false,
     "start_time": "2023-01-10T08:01:52.826768",
     "status": "completed"
    },
    "tags": []
   },
   "outputs": [],
   "source": [
    "# make deep copy of t\n",
    "t = train.copy()\n",
    "t.fillna({col: 'NA' for col in cat_cols_with_null}, inplace=True)"
   ]
  },
  {
   "cell_type": "code",
   "execution_count": 9,
   "id": "764b0220",
   "metadata": {
    "execution": {
     "iopub.execute_input": "2023-01-10T08:01:52.871151Z",
     "iopub.status.busy": "2023-01-10T08:01:52.870620Z",
     "iopub.status.idle": "2023-01-10T08:01:52.876200Z",
     "shell.execute_reply": "2023-01-10T08:01:52.874820Z"
    },
    "papermill": {
     "duration": 0.018422,
     "end_time": "2023-01-10T08:01:52.878886",
     "exception": false,
     "start_time": "2023-01-10T08:01:52.860464",
     "status": "completed"
    },
    "tags": []
   },
   "outputs": [],
   "source": [
    "# edit it later, after get needed features\n",
    "# fill_NA = ['PoolQC']\n",
    "# t[fill_NA].fillna('NA', inplace=True)"
   ]
  },
  {
   "cell_type": "code",
   "execution_count": 10,
   "id": "9347cbc1",
   "metadata": {
    "execution": {
     "iopub.execute_input": "2023-01-10T08:01:52.895278Z",
     "iopub.status.busy": "2023-01-10T08:01:52.894510Z",
     "iopub.status.idle": "2023-01-10T08:01:52.906316Z",
     "shell.execute_reply": "2023-01-10T08:01:52.904566Z"
    },
    "papermill": {
     "duration": 0.024243,
     "end_time": "2023-01-10T08:01:52.910060",
     "exception": false,
     "start_time": "2023-01-10T08:01:52.885817",
     "status": "completed"
    },
    "tags": []
   },
   "outputs": [],
   "source": [
    "def cat_cols_bar_plots(df, features, Metadata):\n",
    "    # Set number of rows and number columns\n",
    "    n_cols = 4\n",
    "    n_rows = math.ceil(len(features) / n_cols)\n",
    "\n",
    "    # Assign row and col id\n",
    "    row_col = []\n",
    "    for row_id in range(1, n_rows+1):\n",
    "        for col_id in range(1, n_cols+1):\n",
    "            row_col.append((row_id, col_id))\n",
    "\n",
    "    # Initialize figure with subplots\n",
    "    fig = make_subplots(\n",
    "        rows=n_rows, cols=n_cols, subplot_titles=features\n",
    "    )\n",
    "\n",
    "    # Add traces\n",
    "    for idx in range(len(features)):\n",
    "        # load data\n",
    "        feature = features[idx]\n",
    "        row_id, col_id = row_col[idx][0], row_col[idx][1]\n",
    "        data = df.groupby(feature)['SalePrice'].mean()\n",
    "\n",
    "        # Add trace\n",
    "        fig.add_trace(\n",
    "            go.Bar(\n",
    "                x=data.index,\n",
    "                y=data.values,\n",
    "                name=feature # set up trace name\n",
    "            ),\n",
    "            row=row_id, # plot location in subplot \n",
    "            col=col_id, # plot location in subplot\n",
    "        )\n",
    "        # Update xaxis properties\n",
    "        desc = Metadata[Metadata['col'] == feature].desc.values[0]\n",
    "        fig.update_xaxes(title_text=desc, row=row_id, col=col_id)\n",
    "#         # Update yaxis properties\n",
    "#         fig.update_yaxes(title_text=\"SalePrice\", row=row_id, col=col_id)\n",
    "        \n",
    "#         fig.update_layout(\n",
    "#             xaxis=dict(title=feature),\n",
    "#             yaxis=dict(title='SalePrice')\n",
    "#         )\n",
    "\n",
    "    # Update title and height\n",
    "    fig.update_layout(title_text=\"Categorical Variables vs. AVG SalePrice\", height=len(features)*100)\n",
    "\n",
    "    fig.show()"
   ]
  },
  {
   "cell_type": "code",
   "execution_count": 11,
   "id": "2bb52974",
   "metadata": {
    "execution": {
     "iopub.execute_input": "2023-01-10T08:01:52.925903Z",
     "iopub.status.busy": "2023-01-10T08:01:52.925390Z",
     "iopub.status.idle": "2023-01-10T08:01:53.558363Z",
     "shell.execute_reply": "2023-01-10T08:01:53.556922Z"
    },
    "papermill": {
     "duration": 0.644603,
     "end_time": "2023-01-10T08:01:53.561342",
     "exception": false,
     "start_time": "2023-01-10T08:01:52.916739",
     "status": "completed"
    },
    "tags": []
   },
   "outputs": [
    {
     "data": {
      "text/html": [
       "        <script type=\"text/javascript\">\n",
       "        window.PlotlyConfig = {MathJaxConfig: 'local'};\n",
       "        if (window.MathJax && window.MathJax.Hub && window.MathJax.Hub.Config) {window.MathJax.Hub.Config({SVG: {font: \"STIX-Web\"}});}\n",
       "        if (typeof require !== 'undefined') {\n",
       "        require.undef(\"plotly\");\n",
       "        requirejs.config({\n",
       "            paths: {\n",
       "                'plotly': ['https://cdn.plot.ly/plotly-2.14.0.min']\n",
       "            }\n",
       "        });\n",
       "        require(['plotly'], function(Plotly) {\n",
       "            window._Plotly = Plotly;\n",
       "        });\n",
       "        }\n",
       "        </script>\n",
       "        "
      ]
     },
     "metadata": {},
     "output_type": "display_data"
    },
    {
     "data": {
      "text/html": [
       "<div>                            <div id=\"edddfed5-65bf-498f-9f02-9548f23ad264\" class=\"plotly-graph-div\" style=\"height:1600px; width:100%;\"></div>            <script type=\"text/javascript\">                require([\"plotly\"], function(Plotly) {                    window.PLOTLYENV=window.PLOTLYENV || {};                                    if (document.getElementById(\"edddfed5-65bf-498f-9f02-9548f23ad264\")) {                    Plotly.newPlot(                        \"edddfed5-65bf-498f-9f02-9548f23ad264\",                        [{\"name\":\"Alley\",\"x\":[\"Grvl\",\"NA\",\"Pave\"],\"y\":[122219.08,183452.13148283417,168000.58536585365],\"type\":\"bar\",\"xaxis\":\"x\",\"yaxis\":\"y\"},{\"name\":\"MasVnrType\",\"x\":[\"BrkCmn\",\"BrkFace\",\"NA\",\"None\",\"Stone\"],\"y\":[146318.06666666668,204691.87191011236,236484.25,156221.8912037037,265583.625],\"type\":\"bar\",\"xaxis\":\"x2\",\"yaxis\":\"y2\"},{\"name\":\"BsmtQual\",\"x\":[\"Ex\",\"Fa\",\"Gd\",\"NA\",\"TA\"],\"y\":[327041.04132231406,115692.02857142857,202688.4789644013,105652.8918918919,140759.81818181818],\"type\":\"bar\",\"xaxis\":\"x3\",\"yaxis\":\"y3\"},{\"name\":\"BsmtCond\",\"x\":[\"Fa\",\"Gd\",\"NA\",\"Po\",\"TA\"],\"y\":[121809.53333333334,213599.9076923077,105652.8918918919,64000.0,183632.6209000763],\"type\":\"bar\",\"xaxis\":\"x4\",\"yaxis\":\"y4\"},{\"name\":\"BsmtExposure\",\"x\":[\"Av\",\"Gd\",\"Mn\",\"NA\",\"No\"],\"y\":[206643.42081447964,257689.80597014926,192789.65789473685,107938.34210526316,165652.29590766],\"type\":\"bar\",\"xaxis\":\"x5\",\"yaxis\":\"y5\"},{\"name\":\"BsmtFinType1\",\"x\":[\"ALQ\",\"BLQ\",\"GLQ\",\"LwQ\",\"NA\",\"Rec\",\"Unf\"],\"y\":[161573.06818181818,149493.6554054054,235413.72009569377,151852.7027027027,105652.8918918919,146889.24812030076,170670.57674418605],\"type\":\"bar\",\"xaxis\":\"x6\",\"yaxis\":\"y6\"},{\"name\":\"BsmtFinType2\",\"x\":[\"ALQ\",\"BLQ\",\"GLQ\",\"LwQ\",\"NA\",\"Rec\",\"Unf\"],\"y\":[209942.1052631579,151101.0,180982.14285714287,164364.13043478262,110346.23684210527,164917.12962962964,184694.69028662422],\"type\":\"bar\",\"xaxis\":\"x7\",\"yaxis\":\"y7\"},{\"name\":\"Electrical\",\"x\":[\"FuseA\",\"FuseF\",\"FuseP\",\"Mix\",\"NA\",\"SBrkr\"],\"y\":[122196.89361702128,107675.44444444444,97333.33333333333,67000.0,167500.0,186825.1131934033],\"type\":\"bar\",\"xaxis\":\"x8\",\"yaxis\":\"y8\"},{\"name\":\"FireplaceQu\",\"x\":[\"Ex\",\"Fa\",\"Gd\",\"NA\",\"Po\",\"TA\"],\"y\":[337712.5,167298.48484848486,226351.41578947369,141331.48260869566,129764.15,205723.48881789137],\"type\":\"bar\",\"xaxis\":\"x9\",\"yaxis\":\"y9\"},{\"name\":\"GarageType\",\"x\":[\"2Types\",\"Attchd\",\"Basment\",\"BuiltIn\",\"CarPort\",\"Detchd\",\"NA\"],\"y\":[151283.33333333334,202892.65632183908,160570.68421052632,254751.73863636365,109962.11111111111,134091.16279069768,103317.28395061729],\"type\":\"bar\",\"xaxis\":\"x10\",\"yaxis\":\"y10\"},{\"name\":\"GarageFinish\",\"x\":[\"Fin\",\"NA\",\"RFn\",\"Unf\"],\"y\":[240052.6903409091,103317.28395061729,202068.86966824645,142156.42314049587],\"type\":\"bar\",\"xaxis\":\"x11\",\"yaxis\":\"y11\"},{\"name\":\"GarageQual\",\"x\":[\"Ex\",\"Fa\",\"Gd\",\"NA\",\"Po\",\"TA\"],\"y\":[241000.0,123573.35416666667,215860.7142857143,103317.28395061729,100166.66666666667,187489.8360030511],\"type\":\"bar\",\"xaxis\":\"x12\",\"yaxis\":\"y12\"},{\"name\":\"GarageCond\",\"x\":[\"Ex\",\"Fa\",\"Gd\",\"NA\",\"Po\",\"TA\"],\"y\":[124000.0,114654.02857142857,179930.0,103317.28395061729,108500.0,187885.73529411765],\"type\":\"bar\",\"xaxis\":\"x13\",\"yaxis\":\"y13\"},{\"name\":\"PoolQC\",\"x\":[\"Ex\",\"Fa\",\"Gd\",\"NA\"],\"y\":[490000.0,215500.0,201990.0,180404.66345492084],\"type\":\"bar\",\"xaxis\":\"x14\",\"yaxis\":\"y14\"},{\"name\":\"Fence\",\"x\":[\"GdPrv\",\"GdWo\",\"MnPrv\",\"MnWw\",\"NA\"],\"y\":[178927.45762711865,140379.3148148148,148751.0891719745,134286.36363636365,187596.83799830364],\"type\":\"bar\",\"xaxis\":\"x15\",\"yaxis\":\"y15\"},{\"name\":\"MiscFeature\",\"x\":[\"Gar2\",\"NA\",\"Othr\",\"Shed\",\"TenC\"],\"y\":[170750.0,182046.41038406827,94000.0,151187.61224489796,250000.0],\"type\":\"bar\",\"xaxis\":\"x16\",\"yaxis\":\"y16\"}],                        {\"template\":{\"data\":{\"histogram2dcontour\":[{\"type\":\"histogram2dcontour\",\"colorbar\":{\"outlinewidth\":0,\"ticks\":\"\"},\"colorscale\":[[0.0,\"#0d0887\"],[0.1111111111111111,\"#46039f\"],[0.2222222222222222,\"#7201a8\"],[0.3333333333333333,\"#9c179e\"],[0.4444444444444444,\"#bd3786\"],[0.5555555555555556,\"#d8576b\"],[0.6666666666666666,\"#ed7953\"],[0.7777777777777778,\"#fb9f3a\"],[0.8888888888888888,\"#fdca26\"],[1.0,\"#f0f921\"]]}],\"choropleth\":[{\"type\":\"choropleth\",\"colorbar\":{\"outlinewidth\":0,\"ticks\":\"\"}}],\"histogram2d\":[{\"type\":\"histogram2d\",\"colorbar\":{\"outlinewidth\":0,\"ticks\":\"\"},\"colorscale\":[[0.0,\"#0d0887\"],[0.1111111111111111,\"#46039f\"],[0.2222222222222222,\"#7201a8\"],[0.3333333333333333,\"#9c179e\"],[0.4444444444444444,\"#bd3786\"],[0.5555555555555556,\"#d8576b\"],[0.6666666666666666,\"#ed7953\"],[0.7777777777777778,\"#fb9f3a\"],[0.8888888888888888,\"#fdca26\"],[1.0,\"#f0f921\"]]}],\"heatmap\":[{\"type\":\"heatmap\",\"colorbar\":{\"outlinewidth\":0,\"ticks\":\"\"},\"colorscale\":[[0.0,\"#0d0887\"],[0.1111111111111111,\"#46039f\"],[0.2222222222222222,\"#7201a8\"],[0.3333333333333333,\"#9c179e\"],[0.4444444444444444,\"#bd3786\"],[0.5555555555555556,\"#d8576b\"],[0.6666666666666666,\"#ed7953\"],[0.7777777777777778,\"#fb9f3a\"],[0.8888888888888888,\"#fdca26\"],[1.0,\"#f0f921\"]]}],\"heatmapgl\":[{\"type\":\"heatmapgl\",\"colorbar\":{\"outlinewidth\":0,\"ticks\":\"\"},\"colorscale\":[[0.0,\"#0d0887\"],[0.1111111111111111,\"#46039f\"],[0.2222222222222222,\"#7201a8\"],[0.3333333333333333,\"#9c179e\"],[0.4444444444444444,\"#bd3786\"],[0.5555555555555556,\"#d8576b\"],[0.6666666666666666,\"#ed7953\"],[0.7777777777777778,\"#fb9f3a\"],[0.8888888888888888,\"#fdca26\"],[1.0,\"#f0f921\"]]}],\"contourcarpet\":[{\"type\":\"contourcarpet\",\"colorbar\":{\"outlinewidth\":0,\"ticks\":\"\"}}],\"contour\":[{\"type\":\"contour\",\"colorbar\":{\"outlinewidth\":0,\"ticks\":\"\"},\"colorscale\":[[0.0,\"#0d0887\"],[0.1111111111111111,\"#46039f\"],[0.2222222222222222,\"#7201a8\"],[0.3333333333333333,\"#9c179e\"],[0.4444444444444444,\"#bd3786\"],[0.5555555555555556,\"#d8576b\"],[0.6666666666666666,\"#ed7953\"],[0.7777777777777778,\"#fb9f3a\"],[0.8888888888888888,\"#fdca26\"],[1.0,\"#f0f921\"]]}],\"surface\":[{\"type\":\"surface\",\"colorbar\":{\"outlinewidth\":0,\"ticks\":\"\"},\"colorscale\":[[0.0,\"#0d0887\"],[0.1111111111111111,\"#46039f\"],[0.2222222222222222,\"#7201a8\"],[0.3333333333333333,\"#9c179e\"],[0.4444444444444444,\"#bd3786\"],[0.5555555555555556,\"#d8576b\"],[0.6666666666666666,\"#ed7953\"],[0.7777777777777778,\"#fb9f3a\"],[0.8888888888888888,\"#fdca26\"],[1.0,\"#f0f921\"]]}],\"mesh3d\":[{\"type\":\"mesh3d\",\"colorbar\":{\"outlinewidth\":0,\"ticks\":\"\"}}],\"scatter\":[{\"fillpattern\":{\"fillmode\":\"overlay\",\"size\":10,\"solidity\":0.2},\"type\":\"scatter\"}],\"parcoords\":[{\"type\":\"parcoords\",\"line\":{\"colorbar\":{\"outlinewidth\":0,\"ticks\":\"\"}}}],\"scatterpolargl\":[{\"type\":\"scatterpolargl\",\"marker\":{\"colorbar\":{\"outlinewidth\":0,\"ticks\":\"\"}}}],\"bar\":[{\"error_x\":{\"color\":\"#2a3f5f\"},\"error_y\":{\"color\":\"#2a3f5f\"},\"marker\":{\"line\":{\"color\":\"#E5ECF6\",\"width\":0.5},\"pattern\":{\"fillmode\":\"overlay\",\"size\":10,\"solidity\":0.2}},\"type\":\"bar\"}],\"scattergeo\":[{\"type\":\"scattergeo\",\"marker\":{\"colorbar\":{\"outlinewidth\":0,\"ticks\":\"\"}}}],\"scatterpolar\":[{\"type\":\"scatterpolar\",\"marker\":{\"colorbar\":{\"outlinewidth\":0,\"ticks\":\"\"}}}],\"histogram\":[{\"marker\":{\"pattern\":{\"fillmode\":\"overlay\",\"size\":10,\"solidity\":0.2}},\"type\":\"histogram\"}],\"scattergl\":[{\"type\":\"scattergl\",\"marker\":{\"colorbar\":{\"outlinewidth\":0,\"ticks\":\"\"}}}],\"scatter3d\":[{\"type\":\"scatter3d\",\"line\":{\"colorbar\":{\"outlinewidth\":0,\"ticks\":\"\"}},\"marker\":{\"colorbar\":{\"outlinewidth\":0,\"ticks\":\"\"}}}],\"scattermapbox\":[{\"type\":\"scattermapbox\",\"marker\":{\"colorbar\":{\"outlinewidth\":0,\"ticks\":\"\"}}}],\"scatterternary\":[{\"type\":\"scatterternary\",\"marker\":{\"colorbar\":{\"outlinewidth\":0,\"ticks\":\"\"}}}],\"scattercarpet\":[{\"type\":\"scattercarpet\",\"marker\":{\"colorbar\":{\"outlinewidth\":0,\"ticks\":\"\"}}}],\"carpet\":[{\"aaxis\":{\"endlinecolor\":\"#2a3f5f\",\"gridcolor\":\"white\",\"linecolor\":\"white\",\"minorgridcolor\":\"white\",\"startlinecolor\":\"#2a3f5f\"},\"baxis\":{\"endlinecolor\":\"#2a3f5f\",\"gridcolor\":\"white\",\"linecolor\":\"white\",\"minorgridcolor\":\"white\",\"startlinecolor\":\"#2a3f5f\"},\"type\":\"carpet\"}],\"table\":[{\"cells\":{\"fill\":{\"color\":\"#EBF0F8\"},\"line\":{\"color\":\"white\"}},\"header\":{\"fill\":{\"color\":\"#C8D4E3\"},\"line\":{\"color\":\"white\"}},\"type\":\"table\"}],\"barpolar\":[{\"marker\":{\"line\":{\"color\":\"#E5ECF6\",\"width\":0.5},\"pattern\":{\"fillmode\":\"overlay\",\"size\":10,\"solidity\":0.2}},\"type\":\"barpolar\"}],\"pie\":[{\"automargin\":true,\"type\":\"pie\"}]},\"layout\":{\"autotypenumbers\":\"strict\",\"colorway\":[\"#636efa\",\"#EF553B\",\"#00cc96\",\"#ab63fa\",\"#FFA15A\",\"#19d3f3\",\"#FF6692\",\"#B6E880\",\"#FF97FF\",\"#FECB52\"],\"font\":{\"color\":\"#2a3f5f\"},\"hovermode\":\"closest\",\"hoverlabel\":{\"align\":\"left\"},\"paper_bgcolor\":\"white\",\"plot_bgcolor\":\"#E5ECF6\",\"polar\":{\"bgcolor\":\"#E5ECF6\",\"angularaxis\":{\"gridcolor\":\"white\",\"linecolor\":\"white\",\"ticks\":\"\"},\"radialaxis\":{\"gridcolor\":\"white\",\"linecolor\":\"white\",\"ticks\":\"\"}},\"ternary\":{\"bgcolor\":\"#E5ECF6\",\"aaxis\":{\"gridcolor\":\"white\",\"linecolor\":\"white\",\"ticks\":\"\"},\"baxis\":{\"gridcolor\":\"white\",\"linecolor\":\"white\",\"ticks\":\"\"},\"caxis\":{\"gridcolor\":\"white\",\"linecolor\":\"white\",\"ticks\":\"\"}},\"coloraxis\":{\"colorbar\":{\"outlinewidth\":0,\"ticks\":\"\"}},\"colorscale\":{\"sequential\":[[0.0,\"#0d0887\"],[0.1111111111111111,\"#46039f\"],[0.2222222222222222,\"#7201a8\"],[0.3333333333333333,\"#9c179e\"],[0.4444444444444444,\"#bd3786\"],[0.5555555555555556,\"#d8576b\"],[0.6666666666666666,\"#ed7953\"],[0.7777777777777778,\"#fb9f3a\"],[0.8888888888888888,\"#fdca26\"],[1.0,\"#f0f921\"]],\"sequentialminus\":[[0.0,\"#0d0887\"],[0.1111111111111111,\"#46039f\"],[0.2222222222222222,\"#7201a8\"],[0.3333333333333333,\"#9c179e\"],[0.4444444444444444,\"#bd3786\"],[0.5555555555555556,\"#d8576b\"],[0.6666666666666666,\"#ed7953\"],[0.7777777777777778,\"#fb9f3a\"],[0.8888888888888888,\"#fdca26\"],[1.0,\"#f0f921\"]],\"diverging\":[[0,\"#8e0152\"],[0.1,\"#c51b7d\"],[0.2,\"#de77ae\"],[0.3,\"#f1b6da\"],[0.4,\"#fde0ef\"],[0.5,\"#f7f7f7\"],[0.6,\"#e6f5d0\"],[0.7,\"#b8e186\"],[0.8,\"#7fbc41\"],[0.9,\"#4d9221\"],[1,\"#276419\"]]},\"xaxis\":{\"gridcolor\":\"white\",\"linecolor\":\"white\",\"ticks\":\"\",\"title\":{\"standoff\":15},\"zerolinecolor\":\"white\",\"automargin\":true,\"zerolinewidth\":2},\"yaxis\":{\"gridcolor\":\"white\",\"linecolor\":\"white\",\"ticks\":\"\",\"title\":{\"standoff\":15},\"zerolinecolor\":\"white\",\"automargin\":true,\"zerolinewidth\":2},\"scene\":{\"xaxis\":{\"backgroundcolor\":\"#E5ECF6\",\"gridcolor\":\"white\",\"linecolor\":\"white\",\"showbackground\":true,\"ticks\":\"\",\"zerolinecolor\":\"white\",\"gridwidth\":2},\"yaxis\":{\"backgroundcolor\":\"#E5ECF6\",\"gridcolor\":\"white\",\"linecolor\":\"white\",\"showbackground\":true,\"ticks\":\"\",\"zerolinecolor\":\"white\",\"gridwidth\":2},\"zaxis\":{\"backgroundcolor\":\"#E5ECF6\",\"gridcolor\":\"white\",\"linecolor\":\"white\",\"showbackground\":true,\"ticks\":\"\",\"zerolinecolor\":\"white\",\"gridwidth\":2}},\"shapedefaults\":{\"line\":{\"color\":\"#2a3f5f\"}},\"annotationdefaults\":{\"arrowcolor\":\"#2a3f5f\",\"arrowhead\":0,\"arrowwidth\":1},\"geo\":{\"bgcolor\":\"white\",\"landcolor\":\"#E5ECF6\",\"subunitcolor\":\"white\",\"showland\":true,\"showlakes\":true,\"lakecolor\":\"white\"},\"title\":{\"x\":0.05},\"mapbox\":{\"style\":\"light\"}}},\"xaxis\":{\"anchor\":\"y\",\"domain\":[0.0,0.2125],\"title\":{\"text\":\"Type of alley access\"}},\"yaxis\":{\"anchor\":\"x\",\"domain\":[0.84375,1.0]},\"xaxis2\":{\"anchor\":\"y2\",\"domain\":[0.2625,0.475],\"title\":{\"text\":\"Masonry veneer type\"}},\"yaxis2\":{\"anchor\":\"x2\",\"domain\":[0.84375,1.0]},\"xaxis3\":{\"anchor\":\"y3\",\"domain\":[0.525,0.7375],\"title\":{\"text\":\"Height of the basement\"}},\"yaxis3\":{\"anchor\":\"x3\",\"domain\":[0.84375,1.0]},\"xaxis4\":{\"anchor\":\"y4\",\"domain\":[0.7875,1.0],\"title\":{\"text\":\"General condition of the basement\"}},\"yaxis4\":{\"anchor\":\"x4\",\"domain\":[0.84375,1.0]},\"xaxis5\":{\"anchor\":\"y5\",\"domain\":[0.0,0.2125],\"title\":{\"text\":\"Walkout or garden level basement walls\"}},\"yaxis5\":{\"anchor\":\"x5\",\"domain\":[0.5625,0.71875]},\"xaxis6\":{\"anchor\":\"y6\",\"domain\":[0.2625,0.475],\"title\":{\"text\":\"Quality of basement finished area\"}},\"yaxis6\":{\"anchor\":\"x6\",\"domain\":[0.5625,0.71875]},\"xaxis7\":{\"anchor\":\"y7\",\"domain\":[0.525,0.7375],\"title\":{\"text\":\"Quality of second finished area (if present)\"}},\"yaxis7\":{\"anchor\":\"x7\",\"domain\":[0.5625,0.71875]},\"xaxis8\":{\"anchor\":\"y8\",\"domain\":[0.7875,1.0],\"title\":{\"text\":\"Electrical system\"}},\"yaxis8\":{\"anchor\":\"x8\",\"domain\":[0.5625,0.71875]},\"xaxis9\":{\"anchor\":\"y9\",\"domain\":[0.0,0.2125],\"title\":{\"text\":\"Fireplace quality\"}},\"yaxis9\":{\"anchor\":\"x9\",\"domain\":[0.28125,0.4375]},\"xaxis10\":{\"anchor\":\"y10\",\"domain\":[0.2625,0.475],\"title\":{\"text\":\"Garage location\"}},\"yaxis10\":{\"anchor\":\"x10\",\"domain\":[0.28125,0.4375]},\"xaxis11\":{\"anchor\":\"y11\",\"domain\":[0.525,0.7375],\"title\":{\"text\":\"Interior finish of the garage\"}},\"yaxis11\":{\"anchor\":\"x11\",\"domain\":[0.28125,0.4375]},\"xaxis12\":{\"anchor\":\"y12\",\"domain\":[0.7875,1.0],\"title\":{\"text\":\"Garage quality\"}},\"yaxis12\":{\"anchor\":\"x12\",\"domain\":[0.28125,0.4375]},\"xaxis13\":{\"anchor\":\"y13\",\"domain\":[0.0,0.2125],\"title\":{\"text\":\"Garage condition\"}},\"yaxis13\":{\"anchor\":\"x13\",\"domain\":[0.0,0.15625]},\"xaxis14\":{\"anchor\":\"y14\",\"domain\":[0.2625,0.475],\"title\":{\"text\":\"Pool quality\"}},\"yaxis14\":{\"anchor\":\"x14\",\"domain\":[0.0,0.15625]},\"xaxis15\":{\"anchor\":\"y15\",\"domain\":[0.525,0.7375],\"title\":{\"text\":\"Fence quality\"}},\"yaxis15\":{\"anchor\":\"x15\",\"domain\":[0.0,0.15625]},\"xaxis16\":{\"anchor\":\"y16\",\"domain\":[0.7875,1.0],\"title\":{\"text\":\"Miscellaneous feature not covered in other categories\"}},\"yaxis16\":{\"anchor\":\"x16\",\"domain\":[0.0,0.15625]},\"annotations\":[{\"font\":{\"size\":16},\"showarrow\":false,\"text\":\"Alley\",\"x\":0.10625,\"xanchor\":\"center\",\"xref\":\"paper\",\"y\":1.0,\"yanchor\":\"bottom\",\"yref\":\"paper\"},{\"font\":{\"size\":16},\"showarrow\":false,\"text\":\"MasVnrType\",\"x\":0.36875,\"xanchor\":\"center\",\"xref\":\"paper\",\"y\":1.0,\"yanchor\":\"bottom\",\"yref\":\"paper\"},{\"font\":{\"size\":16},\"showarrow\":false,\"text\":\"BsmtQual\",\"x\":0.6312500000000001,\"xanchor\":\"center\",\"xref\":\"paper\",\"y\":1.0,\"yanchor\":\"bottom\",\"yref\":\"paper\"},{\"font\":{\"size\":16},\"showarrow\":false,\"text\":\"BsmtCond\",\"x\":0.89375,\"xanchor\":\"center\",\"xref\":\"paper\",\"y\":1.0,\"yanchor\":\"bottom\",\"yref\":\"paper\"},{\"font\":{\"size\":16},\"showarrow\":false,\"text\":\"BsmtExposure\",\"x\":0.10625,\"xanchor\":\"center\",\"xref\":\"paper\",\"y\":0.71875,\"yanchor\":\"bottom\",\"yref\":\"paper\"},{\"font\":{\"size\":16},\"showarrow\":false,\"text\":\"BsmtFinType1\",\"x\":0.36875,\"xanchor\":\"center\",\"xref\":\"paper\",\"y\":0.71875,\"yanchor\":\"bottom\",\"yref\":\"paper\"},{\"font\":{\"size\":16},\"showarrow\":false,\"text\":\"BsmtFinType2\",\"x\":0.6312500000000001,\"xanchor\":\"center\",\"xref\":\"paper\",\"y\":0.71875,\"yanchor\":\"bottom\",\"yref\":\"paper\"},{\"font\":{\"size\":16},\"showarrow\":false,\"text\":\"Electrical\",\"x\":0.89375,\"xanchor\":\"center\",\"xref\":\"paper\",\"y\":0.71875,\"yanchor\":\"bottom\",\"yref\":\"paper\"},{\"font\":{\"size\":16},\"showarrow\":false,\"text\":\"FireplaceQu\",\"x\":0.10625,\"xanchor\":\"center\",\"xref\":\"paper\",\"y\":0.4375,\"yanchor\":\"bottom\",\"yref\":\"paper\"},{\"font\":{\"size\":16},\"showarrow\":false,\"text\":\"GarageType\",\"x\":0.36875,\"xanchor\":\"center\",\"xref\":\"paper\",\"y\":0.4375,\"yanchor\":\"bottom\",\"yref\":\"paper\"},{\"font\":{\"size\":16},\"showarrow\":false,\"text\":\"GarageFinish\",\"x\":0.6312500000000001,\"xanchor\":\"center\",\"xref\":\"paper\",\"y\":0.4375,\"yanchor\":\"bottom\",\"yref\":\"paper\"},{\"font\":{\"size\":16},\"showarrow\":false,\"text\":\"GarageQual\",\"x\":0.89375,\"xanchor\":\"center\",\"xref\":\"paper\",\"y\":0.4375,\"yanchor\":\"bottom\",\"yref\":\"paper\"},{\"font\":{\"size\":16},\"showarrow\":false,\"text\":\"GarageCond\",\"x\":0.10625,\"xanchor\":\"center\",\"xref\":\"paper\",\"y\":0.15625,\"yanchor\":\"bottom\",\"yref\":\"paper\"},{\"font\":{\"size\":16},\"showarrow\":false,\"text\":\"PoolQC\",\"x\":0.36875,\"xanchor\":\"center\",\"xref\":\"paper\",\"y\":0.15625,\"yanchor\":\"bottom\",\"yref\":\"paper\"},{\"font\":{\"size\":16},\"showarrow\":false,\"text\":\"Fence\",\"x\":0.6312500000000001,\"xanchor\":\"center\",\"xref\":\"paper\",\"y\":0.15625,\"yanchor\":\"bottom\",\"yref\":\"paper\"},{\"font\":{\"size\":16},\"showarrow\":false,\"text\":\"MiscFeature\",\"x\":0.89375,\"xanchor\":\"center\",\"xref\":\"paper\",\"y\":0.15625,\"yanchor\":\"bottom\",\"yref\":\"paper\"}],\"title\":{\"text\":\"Categorical Variables vs. AVG SalePrice\"},\"height\":1600},                        {\"responsive\": true}                    ).then(function(){\n",
       "                            \n",
       "var gd = document.getElementById('edddfed5-65bf-498f-9f02-9548f23ad264');\n",
       "var x = new MutationObserver(function (mutations, observer) {{\n",
       "        var display = window.getComputedStyle(gd).display;\n",
       "        if (!display || display === 'none') {{\n",
       "            console.log([gd, 'removed!']);\n",
       "            Plotly.purge(gd);\n",
       "            observer.disconnect();\n",
       "        }}\n",
       "}});\n",
       "\n",
       "// Listen for the removal of the full notebook cells\n",
       "var notebookContainer = gd.closest('#notebook-container');\n",
       "if (notebookContainer) {{\n",
       "    x.observe(notebookContainer, {childList: true});\n",
       "}}\n",
       "\n",
       "// Listen for the clearing of the current output cell\n",
       "var outputEl = gd.closest('.output');\n",
       "if (outputEl) {{\n",
       "    x.observe(outputEl, {childList: true});\n",
       "}}\n",
       "\n",
       "                        })                };                });            </script>        </div>"
      ]
     },
     "metadata": {},
     "output_type": "display_data"
    }
   ],
   "source": [
    "cat_cols_bar_plots(t, cat_cols_with_null, Metadata)"
   ]
  },
  {
   "cell_type": "code",
   "execution_count": 12,
   "id": "01bacdd7",
   "metadata": {
    "execution": {
     "iopub.execute_input": "2023-01-10T08:01:53.578376Z",
     "iopub.status.busy": "2023-01-10T08:01:53.577867Z",
     "iopub.status.idle": "2023-01-10T08:01:54.484348Z",
     "shell.execute_reply": "2023-01-10T08:01:54.483075Z"
    },
    "papermill": {
     "duration": 0.918247,
     "end_time": "2023-01-10T08:01:54.487416",
     "exception": false,
     "start_time": "2023-01-10T08:01:53.569169",
     "status": "completed"
    },
    "tags": []
   },
   "outputs": [
    {
     "data": {
      "text/html": [
       "<div>                            <div id=\"ed941181-be5f-4789-9774-5a641a489e90\" class=\"plotly-graph-div\" style=\"height:4300px; width:100%;\"></div>            <script type=\"text/javascript\">                require([\"plotly\"], function(Plotly) {                    window.PLOTLYENV=window.PLOTLYENV || {};                                    if (document.getElementById(\"ed941181-be5f-4789-9774-5a641a489e90\")) {                    Plotly.newPlot(                        \"ed941181-be5f-4789-9774-5a641a489e90\",                        [{\"name\":\"MSZoning\",\"x\":[\"C (all)\",\"FV\",\"RH\",\"RL\",\"RM\"],\"y\":[74528.0,214014.06153846154,131558.375,191004.99478714162,126316.83027522935],\"type\":\"bar\",\"xaxis\":\"x\",\"yaxis\":\"y\"},{\"name\":\"Street\",\"x\":[\"Grvl\",\"Pave\"],\"y\":[130190.5,181130.53851444292],\"type\":\"bar\",\"xaxis\":\"x2\",\"yaxis\":\"y2\"},{\"name\":\"Alley\",\"x\":[\"Grvl\",\"NA\",\"Pave\"],\"y\":[122219.08,183452.13148283417,168000.58536585365],\"type\":\"bar\",\"xaxis\":\"x3\",\"yaxis\":\"y3\"},{\"name\":\"LotShape\",\"x\":[\"IR1\",\"IR2\",\"IR3\",\"Reg\"],\"y\":[206101.6652892562,239833.36585365853,216036.5,164754.81837837838],\"type\":\"bar\",\"xaxis\":\"x4\",\"yaxis\":\"y4\"},{\"name\":\"LandContour\",\"x\":[\"Bnk\",\"HLS\",\"Low\",\"Lvl\"],\"y\":[143104.07936507938,231533.94,203661.11111111112,180183.74675819985],\"type\":\"bar\",\"xaxis\":\"x5\",\"yaxis\":\"y5\"},{\"name\":\"Utilities\",\"x\":[\"AllPub\",\"NoSeWa\"],\"y\":[180950.95681973954,137500.0],\"type\":\"bar\",\"xaxis\":\"x6\",\"yaxis\":\"y6\"},{\"name\":\"LotConfig\",\"x\":[\"Corner\",\"CulDSac\",\"FR2\",\"FR3\",\"Inside\"],\"y\":[181623.4258555133,223854.6170212766,177934.5744680851,208475.0,176938.0475285171],\"type\":\"bar\",\"xaxis\":\"x7\",\"yaxis\":\"y7\"},{\"name\":\"LandSlope\",\"x\":[\"Gtl\",\"Mod\",\"Sev\"],\"y\":[179956.7995658466,196734.13846153847,204379.23076923078],\"type\":\"bar\",\"xaxis\":\"x8\",\"yaxis\":\"y8\"},{\"name\":\"Neighborhood\",\"x\":[\"Blmngtn\",\"Blueste\",\"BrDale\",\"BrkSide\",\"ClearCr\",\"CollgCr\",\"Crawfor\",\"Edwards\",\"Gilbert\",\"IDOTRR\",\"MeadowV\",\"Mitchel\",\"NAmes\",\"NPkVill\",\"NWAmes\",\"NoRidge\",\"NridgHt\",\"OldTown\",\"SWISU\",\"Sawyer\",\"SawyerW\",\"Somerst\",\"StoneBr\",\"Timber\",\"Veenker\"],\"y\":[194870.88235294117,137500.0,104493.75,124834.05172413793,212565.42857142858,197965.77333333335,210624.72549019608,128219.7,192854.50632911394,100123.78378378379,98576.4705882353,156270.1224489796,145847.08,142694.44444444444,189050.0684931507,335295.31707317074,316270.6233766234,128225.30088495575,142591.36,136793.13513513515,186555.7966101695,225379.83720930232,310499.0,242247.44736842104,238772.72727272726],\"type\":\"bar\",\"xaxis\":\"x9\",\"yaxis\":\"y9\"},{\"name\":\"Condition1\",\"x\":[\"Artery\",\"Feedr\",\"Norm\",\"PosA\",\"PosN\",\"RRAe\",\"RRAn\",\"RRNe\",\"RRNn\"],\"y\":[135091.66666666666,142475.4814814815,184495.49206349207,225875.0,215184.2105263158,138400.0,184396.61538461538,190750.0,212400.0],\"type\":\"bar\",\"xaxis\":\"x10\",\"yaxis\":\"y10\"},{\"name\":\"Condition2\",\"x\":[\"Artery\",\"Feedr\",\"Norm\",\"PosA\",\"PosN\",\"RRAe\",\"RRAn\",\"RRNn\"],\"y\":[106500.0,121166.66666666667,181169.40553633217,325000.0,284875.0,190000.0,136905.0,96750.0],\"type\":\"bar\",\"xaxis\":\"x11\",\"yaxis\":\"y11\"},{\"name\":\"BldgType\",\"x\":[\"1Fam\",\"2fmCon\",\"Duplex\",\"Twnhs\",\"TwnhsE\"],\"y\":[185763.80737704918,128432.25806451614,133541.07692307694,135911.62790697673,181959.34210526315],\"type\":\"bar\",\"xaxis\":\"x12\",\"yaxis\":\"y12\"},{\"name\":\"HouseStyle\",\"x\":[\"1.5Fin\",\"1.5Unf\",\"1Story\",\"2.5Fin\",\"2.5Unf\",\"2Story\",\"SFoyer\",\"SLvl\"],\"y\":[143116.74025974027,110150.0,175985.4779614325,220000.0,157354.54545454544,210051.76404494382,135074.48648648648,166703.38461538462],\"type\":\"bar\",\"xaxis\":\"x13\",\"yaxis\":\"y13\"},{\"name\":\"RoofStyle\",\"x\":[\"Flat\",\"Gable\",\"Gambrel\",\"Hip\",\"Mansard\",\"Shed\"],\"y\":[194690.0,171483.95617879054,148909.0909090909,218876.93356643355,180568.42857142858,225000.0],\"type\":\"bar\",\"xaxis\":\"x14\",\"yaxis\":\"y14\"},{\"name\":\"RoofMatl\",\"x\":[\"ClyTile\",\"CompShg\",\"Membran\",\"Metal\",\"Roll\",\"Tar&Grv\",\"WdShake\",\"WdShngl\"],\"y\":[160000.0,179803.6792189679,241500.0,180000.0,137000.0,185406.36363636365,241400.0,390250.0],\"type\":\"bar\",\"xaxis\":\"x15\",\"yaxis\":\"y15\"},{\"name\":\"Exterior1st\",\"x\":[\"AsbShng\",\"AsphShn\",\"BrkComm\",\"BrkFace\",\"CBlock\",\"CemntBd\",\"HdBoard\",\"ImStucc\",\"MetalSd\",\"Plywood\",\"Stone\",\"Stucco\",\"VinylSd\",\"Wd Sdng\",\"WdShing\"],\"y\":[107385.55,100000.0,71000.0,194573.0,105000.0,231690.65573770492,163077.45045045044,262000.0,149422.17727272728,175942.37962962964,258500.0,162990.0,213732.90097087377,149841.64563106795,150655.07692307694],\"type\":\"bar\",\"xaxis\":\"x16\",\"yaxis\":\"y16\"},{\"name\":\"Exterior2nd\",\"x\":[\"AsbShng\",\"AsphShn\",\"Brk Cmn\",\"BrkFace\",\"CBlock\",\"CmentBd\",\"HdBoard\",\"ImStucc\",\"MetalSd\",\"Other\",\"Plywood\",\"Stone\",\"Stucco\",\"VinylSd\",\"Wd Sdng\",\"Wd Shng\"],\"y\":[114060.55,138000.0,126714.28571428571,195818.0,105000.0,230093.83333333334,167661.5652173913,252070.0,149803.17289719626,319000.0,168112.38732394367,158224.8,155905.15384615384,214432.46031746033,148386.0659898477,161328.94736842104],\"type\":\"bar\",\"xaxis\":\"x17\",\"yaxis\":\"y17\"},{\"name\":\"MasVnrType\",\"x\":[\"BrkCmn\",\"BrkFace\",\"NA\",\"None\",\"Stone\"],\"y\":[146318.06666666668,204691.87191011236,236484.25,156221.8912037037,265583.625],\"type\":\"bar\",\"xaxis\":\"x18\",\"yaxis\":\"y18\"},{\"name\":\"ExterQual\",\"x\":[\"Ex\",\"Fa\",\"Gd\",\"TA\"],\"y\":[367360.96153846156,87985.21428571429,231633.51024590165,144341.31346578366],\"type\":\"bar\",\"xaxis\":\"x19\",\"yaxis\":\"y19\"},{\"name\":\"ExterCond\",\"x\":[\"Ex\",\"Fa\",\"Gd\",\"Po\",\"TA\"],\"y\":[201333.33333333334,102595.14285714286,168897.5684931507,76500.0,184034.89625585024],\"type\":\"bar\",\"xaxis\":\"x20\",\"yaxis\":\"y20\"},{\"name\":\"Foundation\",\"x\":[\"BrkTil\",\"CBlock\",\"PConc\",\"Slab\",\"Stone\",\"Wood\"],\"y\":[132291.07534246575,149805.714511041,225230.44204018547,107365.625,165959.16666666666,185666.66666666666],\"type\":\"bar\",\"xaxis\":\"x21\",\"yaxis\":\"y21\"},{\"name\":\"BsmtQual\",\"x\":[\"Ex\",\"Fa\",\"Gd\",\"NA\",\"TA\"],\"y\":[327041.04132231406,115692.02857142857,202688.4789644013,105652.8918918919,140759.81818181818],\"type\":\"bar\",\"xaxis\":\"x22\",\"yaxis\":\"y22\"},{\"name\":\"BsmtCond\",\"x\":[\"Fa\",\"Gd\",\"NA\",\"Po\",\"TA\"],\"y\":[121809.53333333334,213599.9076923077,105652.8918918919,64000.0,183632.6209000763],\"type\":\"bar\",\"xaxis\":\"x23\",\"yaxis\":\"y23\"},{\"name\":\"BsmtExposure\",\"x\":[\"Av\",\"Gd\",\"Mn\",\"NA\",\"No\"],\"y\":[206643.42081447964,257689.80597014926,192789.65789473685,107938.34210526316,165652.29590766],\"type\":\"bar\",\"xaxis\":\"x24\",\"yaxis\":\"y24\"},{\"name\":\"BsmtFinType1\",\"x\":[\"ALQ\",\"BLQ\",\"GLQ\",\"LwQ\",\"NA\",\"Rec\",\"Unf\"],\"y\":[161573.06818181818,149493.6554054054,235413.72009569377,151852.7027027027,105652.8918918919,146889.24812030076,170670.57674418605],\"type\":\"bar\",\"xaxis\":\"x25\",\"yaxis\":\"y25\"},{\"name\":\"BsmtFinType2\",\"x\":[\"ALQ\",\"BLQ\",\"GLQ\",\"LwQ\",\"NA\",\"Rec\",\"Unf\"],\"y\":[209942.1052631579,151101.0,180982.14285714287,164364.13043478262,110346.23684210527,164917.12962962964,184694.69028662422],\"type\":\"bar\",\"xaxis\":\"x26\",\"yaxis\":\"y26\"},{\"name\":\"Heating\",\"x\":[\"Floor\",\"GasA\",\"GasW\",\"Grav\",\"OthW\",\"Wall\"],\"y\":[72500.0,182021.19537815126,166632.16666666666,75271.42857142857,125750.0,92100.0],\"type\":\"bar\",\"xaxis\":\"x27\",\"yaxis\":\"y27\"},{\"name\":\"HeatingQC\",\"x\":[\"Ex\",\"Fa\",\"Gd\",\"Po\",\"TA\"],\"y\":[214914.42914979756,123919.48979591837,156858.87136929462,87000.0,142362.8761682243],\"type\":\"bar\",\"xaxis\":\"x28\",\"yaxis\":\"y28\"},{\"name\":\"CentralAir\",\"x\":[\"N\",\"Y\"],\"y\":[105264.07368421053,186186.7098901099],\"type\":\"bar\",\"xaxis\":\"x29\",\"yaxis\":\"y29\"},{\"name\":\"Electrical\",\"x\":[\"FuseA\",\"FuseF\",\"FuseP\",\"Mix\",\"NA\",\"SBrkr\"],\"y\":[122196.89361702128,107675.44444444444,97333.33333333333,67000.0,167500.0,186825.1131934033],\"type\":\"bar\",\"xaxis\":\"x30\",\"yaxis\":\"y30\"},{\"name\":\"KitchenQual\",\"x\":[\"Ex\",\"Fa\",\"Gd\",\"TA\"],\"y\":[328554.67,105565.20512820513,212116.02389078497,139962.51156462586],\"type\":\"bar\",\"xaxis\":\"x31\",\"yaxis\":\"y31\"},{\"name\":\"Functional\",\"x\":[\"Maj1\",\"Maj2\",\"Min1\",\"Min2\",\"Mod\",\"Sev\",\"Typ\"],\"y\":[153948.14285714287,85800.0,146385.48387096773,144240.64705882352,168393.33333333334,129000.0,183429.14705882352],\"type\":\"bar\",\"xaxis\":\"x32\",\"yaxis\":\"y32\"},{\"name\":\"FireplaceQu\",\"x\":[\"Ex\",\"Fa\",\"Gd\",\"NA\",\"Po\",\"TA\"],\"y\":[337712.5,167298.48484848486,226351.41578947369,141331.48260869566,129764.15,205723.48881789137],\"type\":\"bar\",\"xaxis\":\"x33\",\"yaxis\":\"y33\"},{\"name\":\"GarageType\",\"x\":[\"2Types\",\"Attchd\",\"Basment\",\"BuiltIn\",\"CarPort\",\"Detchd\",\"NA\"],\"y\":[151283.33333333334,202892.65632183908,160570.68421052632,254751.73863636365,109962.11111111111,134091.16279069768,103317.28395061729],\"type\":\"bar\",\"xaxis\":\"x34\",\"yaxis\":\"y34\"},{\"name\":\"GarageFinish\",\"x\":[\"Fin\",\"NA\",\"RFn\",\"Unf\"],\"y\":[240052.6903409091,103317.28395061729,202068.86966824645,142156.42314049587],\"type\":\"bar\",\"xaxis\":\"x35\",\"yaxis\":\"y35\"},{\"name\":\"GarageQual\",\"x\":[\"Ex\",\"Fa\",\"Gd\",\"NA\",\"Po\",\"TA\"],\"y\":[241000.0,123573.35416666667,215860.7142857143,103317.28395061729,100166.66666666667,187489.8360030511],\"type\":\"bar\",\"xaxis\":\"x36\",\"yaxis\":\"y36\"},{\"name\":\"GarageCond\",\"x\":[\"Ex\",\"Fa\",\"Gd\",\"NA\",\"Po\",\"TA\"],\"y\":[124000.0,114654.02857142857,179930.0,103317.28395061729,108500.0,187885.73529411765],\"type\":\"bar\",\"xaxis\":\"x37\",\"yaxis\":\"y37\"},{\"name\":\"PavedDrive\",\"x\":[\"N\",\"P\",\"Y\"],\"y\":[115039.12222222223,132330.0,186433.973880597],\"type\":\"bar\",\"xaxis\":\"x38\",\"yaxis\":\"y38\"},{\"name\":\"PoolQC\",\"x\":[\"Ex\",\"Fa\",\"Gd\",\"NA\"],\"y\":[490000.0,215500.0,201990.0,180404.66345492084],\"type\":\"bar\",\"xaxis\":\"x39\",\"yaxis\":\"y39\"},{\"name\":\"Fence\",\"x\":[\"GdPrv\",\"GdWo\",\"MnPrv\",\"MnWw\",\"NA\"],\"y\":[178927.45762711865,140379.3148148148,148751.0891719745,134286.36363636365,187596.83799830364],\"type\":\"bar\",\"xaxis\":\"x40\",\"yaxis\":\"y40\"},{\"name\":\"MiscFeature\",\"x\":[\"Gar2\",\"NA\",\"Othr\",\"Shed\",\"TenC\"],\"y\":[170750.0,182046.41038406827,94000.0,151187.61224489796,250000.0],\"type\":\"bar\",\"xaxis\":\"x41\",\"yaxis\":\"y41\"},{\"name\":\"SaleType\",\"x\":[\"COD\",\"CWD\",\"Con\",\"ConLD\",\"ConLI\",\"ConLw\",\"New\",\"Oth\",\"WD\"],\"y\":[143973.2558139535,210600.0,269600.0,138780.88888888888,200390.0,143700.0,274945.41803278687,119850.0,173401.8366219416],\"type\":\"bar\",\"xaxis\":\"x42\",\"yaxis\":\"y42\"},{\"name\":\"SaleCondition\",\"x\":[\"Abnorml\",\"AdjLand\",\"Alloca\",\"Family\",\"Normal\",\"Partial\"],\"y\":[146526.62376237623,104125.0,167377.41666666666,149600.0,175202.21953255427,272291.752],\"type\":\"bar\",\"xaxis\":\"x43\",\"yaxis\":\"y43\"}],                        {\"template\":{\"data\":{\"histogram2dcontour\":[{\"type\":\"histogram2dcontour\",\"colorbar\":{\"outlinewidth\":0,\"ticks\":\"\"},\"colorscale\":[[0.0,\"#0d0887\"],[0.1111111111111111,\"#46039f\"],[0.2222222222222222,\"#7201a8\"],[0.3333333333333333,\"#9c179e\"],[0.4444444444444444,\"#bd3786\"],[0.5555555555555556,\"#d8576b\"],[0.6666666666666666,\"#ed7953\"],[0.7777777777777778,\"#fb9f3a\"],[0.8888888888888888,\"#fdca26\"],[1.0,\"#f0f921\"]]}],\"choropleth\":[{\"type\":\"choropleth\",\"colorbar\":{\"outlinewidth\":0,\"ticks\":\"\"}}],\"histogram2d\":[{\"type\":\"histogram2d\",\"colorbar\":{\"outlinewidth\":0,\"ticks\":\"\"},\"colorscale\":[[0.0,\"#0d0887\"],[0.1111111111111111,\"#46039f\"],[0.2222222222222222,\"#7201a8\"],[0.3333333333333333,\"#9c179e\"],[0.4444444444444444,\"#bd3786\"],[0.5555555555555556,\"#d8576b\"],[0.6666666666666666,\"#ed7953\"],[0.7777777777777778,\"#fb9f3a\"],[0.8888888888888888,\"#fdca26\"],[1.0,\"#f0f921\"]]}],\"heatmap\":[{\"type\":\"heatmap\",\"colorbar\":{\"outlinewidth\":0,\"ticks\":\"\"},\"colorscale\":[[0.0,\"#0d0887\"],[0.1111111111111111,\"#46039f\"],[0.2222222222222222,\"#7201a8\"],[0.3333333333333333,\"#9c179e\"],[0.4444444444444444,\"#bd3786\"],[0.5555555555555556,\"#d8576b\"],[0.6666666666666666,\"#ed7953\"],[0.7777777777777778,\"#fb9f3a\"],[0.8888888888888888,\"#fdca26\"],[1.0,\"#f0f921\"]]}],\"heatmapgl\":[{\"type\":\"heatmapgl\",\"colorbar\":{\"outlinewidth\":0,\"ticks\":\"\"},\"colorscale\":[[0.0,\"#0d0887\"],[0.1111111111111111,\"#46039f\"],[0.2222222222222222,\"#7201a8\"],[0.3333333333333333,\"#9c179e\"],[0.4444444444444444,\"#bd3786\"],[0.5555555555555556,\"#d8576b\"],[0.6666666666666666,\"#ed7953\"],[0.7777777777777778,\"#fb9f3a\"],[0.8888888888888888,\"#fdca26\"],[1.0,\"#f0f921\"]]}],\"contourcarpet\":[{\"type\":\"contourcarpet\",\"colorbar\":{\"outlinewidth\":0,\"ticks\":\"\"}}],\"contour\":[{\"type\":\"contour\",\"colorbar\":{\"outlinewidth\":0,\"ticks\":\"\"},\"colorscale\":[[0.0,\"#0d0887\"],[0.1111111111111111,\"#46039f\"],[0.2222222222222222,\"#7201a8\"],[0.3333333333333333,\"#9c179e\"],[0.4444444444444444,\"#bd3786\"],[0.5555555555555556,\"#d8576b\"],[0.6666666666666666,\"#ed7953\"],[0.7777777777777778,\"#fb9f3a\"],[0.8888888888888888,\"#fdca26\"],[1.0,\"#f0f921\"]]}],\"surface\":[{\"type\":\"surface\",\"colorbar\":{\"outlinewidth\":0,\"ticks\":\"\"},\"colorscale\":[[0.0,\"#0d0887\"],[0.1111111111111111,\"#46039f\"],[0.2222222222222222,\"#7201a8\"],[0.3333333333333333,\"#9c179e\"],[0.4444444444444444,\"#bd3786\"],[0.5555555555555556,\"#d8576b\"],[0.6666666666666666,\"#ed7953\"],[0.7777777777777778,\"#fb9f3a\"],[0.8888888888888888,\"#fdca26\"],[1.0,\"#f0f921\"]]}],\"mesh3d\":[{\"type\":\"mesh3d\",\"colorbar\":{\"outlinewidth\":0,\"ticks\":\"\"}}],\"scatter\":[{\"fillpattern\":{\"fillmode\":\"overlay\",\"size\":10,\"solidity\":0.2},\"type\":\"scatter\"}],\"parcoords\":[{\"type\":\"parcoords\",\"line\":{\"colorbar\":{\"outlinewidth\":0,\"ticks\":\"\"}}}],\"scatterpolargl\":[{\"type\":\"scatterpolargl\",\"marker\":{\"colorbar\":{\"outlinewidth\":0,\"ticks\":\"\"}}}],\"bar\":[{\"error_x\":{\"color\":\"#2a3f5f\"},\"error_y\":{\"color\":\"#2a3f5f\"},\"marker\":{\"line\":{\"color\":\"#E5ECF6\",\"width\":0.5},\"pattern\":{\"fillmode\":\"overlay\",\"size\":10,\"solidity\":0.2}},\"type\":\"bar\"}],\"scattergeo\":[{\"type\":\"scattergeo\",\"marker\":{\"colorbar\":{\"outlinewidth\":0,\"ticks\":\"\"}}}],\"scatterpolar\":[{\"type\":\"scatterpolar\",\"marker\":{\"colorbar\":{\"outlinewidth\":0,\"ticks\":\"\"}}}],\"histogram\":[{\"marker\":{\"pattern\":{\"fillmode\":\"overlay\",\"size\":10,\"solidity\":0.2}},\"type\":\"histogram\"}],\"scattergl\":[{\"type\":\"scattergl\",\"marker\":{\"colorbar\":{\"outlinewidth\":0,\"ticks\":\"\"}}}],\"scatter3d\":[{\"type\":\"scatter3d\",\"line\":{\"colorbar\":{\"outlinewidth\":0,\"ticks\":\"\"}},\"marker\":{\"colorbar\":{\"outlinewidth\":0,\"ticks\":\"\"}}}],\"scattermapbox\":[{\"type\":\"scattermapbox\",\"marker\":{\"colorbar\":{\"outlinewidth\":0,\"ticks\":\"\"}}}],\"scatterternary\":[{\"type\":\"scatterternary\",\"marker\":{\"colorbar\":{\"outlinewidth\":0,\"ticks\":\"\"}}}],\"scattercarpet\":[{\"type\":\"scattercarpet\",\"marker\":{\"colorbar\":{\"outlinewidth\":0,\"ticks\":\"\"}}}],\"carpet\":[{\"aaxis\":{\"endlinecolor\":\"#2a3f5f\",\"gridcolor\":\"white\",\"linecolor\":\"white\",\"minorgridcolor\":\"white\",\"startlinecolor\":\"#2a3f5f\"},\"baxis\":{\"endlinecolor\":\"#2a3f5f\",\"gridcolor\":\"white\",\"linecolor\":\"white\",\"minorgridcolor\":\"white\",\"startlinecolor\":\"#2a3f5f\"},\"type\":\"carpet\"}],\"table\":[{\"cells\":{\"fill\":{\"color\":\"#EBF0F8\"},\"line\":{\"color\":\"white\"}},\"header\":{\"fill\":{\"color\":\"#C8D4E3\"},\"line\":{\"color\":\"white\"}},\"type\":\"table\"}],\"barpolar\":[{\"marker\":{\"line\":{\"color\":\"#E5ECF6\",\"width\":0.5},\"pattern\":{\"fillmode\":\"overlay\",\"size\":10,\"solidity\":0.2}},\"type\":\"barpolar\"}],\"pie\":[{\"automargin\":true,\"type\":\"pie\"}]},\"layout\":{\"autotypenumbers\":\"strict\",\"colorway\":[\"#636efa\",\"#EF553B\",\"#00cc96\",\"#ab63fa\",\"#FFA15A\",\"#19d3f3\",\"#FF6692\",\"#B6E880\",\"#FF97FF\",\"#FECB52\"],\"font\":{\"color\":\"#2a3f5f\"},\"hovermode\":\"closest\",\"hoverlabel\":{\"align\":\"left\"},\"paper_bgcolor\":\"white\",\"plot_bgcolor\":\"#E5ECF6\",\"polar\":{\"bgcolor\":\"#E5ECF6\",\"angularaxis\":{\"gridcolor\":\"white\",\"linecolor\":\"white\",\"ticks\":\"\"},\"radialaxis\":{\"gridcolor\":\"white\",\"linecolor\":\"white\",\"ticks\":\"\"}},\"ternary\":{\"bgcolor\":\"#E5ECF6\",\"aaxis\":{\"gridcolor\":\"white\",\"linecolor\":\"white\",\"ticks\":\"\"},\"baxis\":{\"gridcolor\":\"white\",\"linecolor\":\"white\",\"ticks\":\"\"},\"caxis\":{\"gridcolor\":\"white\",\"linecolor\":\"white\",\"ticks\":\"\"}},\"coloraxis\":{\"colorbar\":{\"outlinewidth\":0,\"ticks\":\"\"}},\"colorscale\":{\"sequential\":[[0.0,\"#0d0887\"],[0.1111111111111111,\"#46039f\"],[0.2222222222222222,\"#7201a8\"],[0.3333333333333333,\"#9c179e\"],[0.4444444444444444,\"#bd3786\"],[0.5555555555555556,\"#d8576b\"],[0.6666666666666666,\"#ed7953\"],[0.7777777777777778,\"#fb9f3a\"],[0.8888888888888888,\"#fdca26\"],[1.0,\"#f0f921\"]],\"sequentialminus\":[[0.0,\"#0d0887\"],[0.1111111111111111,\"#46039f\"],[0.2222222222222222,\"#7201a8\"],[0.3333333333333333,\"#9c179e\"],[0.4444444444444444,\"#bd3786\"],[0.5555555555555556,\"#d8576b\"],[0.6666666666666666,\"#ed7953\"],[0.7777777777777778,\"#fb9f3a\"],[0.8888888888888888,\"#fdca26\"],[1.0,\"#f0f921\"]],\"diverging\":[[0,\"#8e0152\"],[0.1,\"#c51b7d\"],[0.2,\"#de77ae\"],[0.3,\"#f1b6da\"],[0.4,\"#fde0ef\"],[0.5,\"#f7f7f7\"],[0.6,\"#e6f5d0\"],[0.7,\"#b8e186\"],[0.8,\"#7fbc41\"],[0.9,\"#4d9221\"],[1,\"#276419\"]]},\"xaxis\":{\"gridcolor\":\"white\",\"linecolor\":\"white\",\"ticks\":\"\",\"title\":{\"standoff\":15},\"zerolinecolor\":\"white\",\"automargin\":true,\"zerolinewidth\":2},\"yaxis\":{\"gridcolor\":\"white\",\"linecolor\":\"white\",\"ticks\":\"\",\"title\":{\"standoff\":15},\"zerolinecolor\":\"white\",\"automargin\":true,\"zerolinewidth\":2},\"scene\":{\"xaxis\":{\"backgroundcolor\":\"#E5ECF6\",\"gridcolor\":\"white\",\"linecolor\":\"white\",\"showbackground\":true,\"ticks\":\"\",\"zerolinecolor\":\"white\",\"gridwidth\":2},\"yaxis\":{\"backgroundcolor\":\"#E5ECF6\",\"gridcolor\":\"white\",\"linecolor\":\"white\",\"showbackground\":true,\"ticks\":\"\",\"zerolinecolor\":\"white\",\"gridwidth\":2},\"zaxis\":{\"backgroundcolor\":\"#E5ECF6\",\"gridcolor\":\"white\",\"linecolor\":\"white\",\"showbackground\":true,\"ticks\":\"\",\"zerolinecolor\":\"white\",\"gridwidth\":2}},\"shapedefaults\":{\"line\":{\"color\":\"#2a3f5f\"}},\"annotationdefaults\":{\"arrowcolor\":\"#2a3f5f\",\"arrowhead\":0,\"arrowwidth\":1},\"geo\":{\"bgcolor\":\"white\",\"landcolor\":\"#E5ECF6\",\"subunitcolor\":\"white\",\"showland\":true,\"showlakes\":true,\"lakecolor\":\"white\"},\"title\":{\"x\":0.05},\"mapbox\":{\"style\":\"light\"}}},\"xaxis\":{\"anchor\":\"y\",\"domain\":[0.0,0.2125],\"title\":{\"text\":\"The general zoning classification\"}},\"yaxis\":{\"anchor\":\"x\",\"domain\":[0.9504132231404958,0.9999999999999999]},\"xaxis2\":{\"anchor\":\"y2\",\"domain\":[0.2625,0.475],\"title\":{\"text\":\"Type of road access\"}},\"yaxis2\":{\"anchor\":\"x2\",\"domain\":[0.9504132231404958,0.9999999999999999]},\"xaxis3\":{\"anchor\":\"y3\",\"domain\":[0.525,0.7375],\"title\":{\"text\":\"Type of alley access\"}},\"yaxis3\":{\"anchor\":\"x3\",\"domain\":[0.9504132231404958,0.9999999999999999]},\"xaxis4\":{\"anchor\":\"y4\",\"domain\":[0.7875,1.0],\"title\":{\"text\":\"General shape of property\"}},\"yaxis4\":{\"anchor\":\"x4\",\"domain\":[0.9504132231404958,0.9999999999999999]},\"xaxis5\":{\"anchor\":\"y5\",\"domain\":[0.0,0.2125],\"title\":{\"text\":\"Flatness of the property\"}},\"yaxis5\":{\"anchor\":\"x5\",\"domain\":[0.8553719008264462,0.9049586776859503]},\"xaxis6\":{\"anchor\":\"y6\",\"domain\":[0.2625,0.475],\"title\":{\"text\":\"Type of utilities available\"}},\"yaxis6\":{\"anchor\":\"x6\",\"domain\":[0.8553719008264462,0.9049586776859503]},\"xaxis7\":{\"anchor\":\"y7\",\"domain\":[0.525,0.7375],\"title\":{\"text\":\"Lot configuration\"}},\"yaxis7\":{\"anchor\":\"x7\",\"domain\":[0.8553719008264462,0.9049586776859503]},\"xaxis8\":{\"anchor\":\"y8\",\"domain\":[0.7875,1.0],\"title\":{\"text\":\"Slope of property\"}},\"yaxis8\":{\"anchor\":\"x8\",\"domain\":[0.8553719008264462,0.9049586776859503]},\"xaxis9\":{\"anchor\":\"y9\",\"domain\":[0.0,0.2125],\"title\":{\"text\":\"Physical locations within Ames city limits\"}},\"yaxis9\":{\"anchor\":\"x9\",\"domain\":[0.7603305785123966,0.8099173553719007]},\"xaxis10\":{\"anchor\":\"y10\",\"domain\":[0.2625,0.475],\"title\":{\"text\":\"Proximity to main road or railroad\"}},\"yaxis10\":{\"anchor\":\"x10\",\"domain\":[0.7603305785123966,0.8099173553719007]},\"xaxis11\":{\"anchor\":\"y11\",\"domain\":[0.525,0.7375],\"title\":{\"text\":\"Proximity to main road or railroad (if a second is present)\"}},\"yaxis11\":{\"anchor\":\"x11\",\"domain\":[0.7603305785123966,0.8099173553719007]},\"xaxis12\":{\"anchor\":\"y12\",\"domain\":[0.7875,1.0],\"title\":{\"text\":\"Type of dwelling\"}},\"yaxis12\":{\"anchor\":\"x12\",\"domain\":[0.7603305785123966,0.8099173553719007]},\"xaxis13\":{\"anchor\":\"y13\",\"domain\":[0.0,0.2125],\"title\":{\"text\":\"Style of dwelling\"}},\"yaxis13\":{\"anchor\":\"x13\",\"domain\":[0.665289256198347,0.7148760330578511]},\"xaxis14\":{\"anchor\":\"y14\",\"domain\":[0.2625,0.475],\"title\":{\"text\":\"Type of roof\"}},\"yaxis14\":{\"anchor\":\"x14\",\"domain\":[0.665289256198347,0.7148760330578511]},\"xaxis15\":{\"anchor\":\"y15\",\"domain\":[0.525,0.7375],\"title\":{\"text\":\"Roof material\"}},\"yaxis15\":{\"anchor\":\"x15\",\"domain\":[0.665289256198347,0.7148760330578511]},\"xaxis16\":{\"anchor\":\"y16\",\"domain\":[0.7875,1.0],\"title\":{\"text\":\"Exterior covering on house\"}},\"yaxis16\":{\"anchor\":\"x16\",\"domain\":[0.665289256198347,0.7148760330578511]},\"xaxis17\":{\"anchor\":\"y17\",\"domain\":[0.0,0.2125],\"title\":{\"text\":\"Exterior covering on house (if more than one material)\"}},\"yaxis17\":{\"anchor\":\"x17\",\"domain\":[0.5702479338842974,0.6198347107438015]},\"xaxis18\":{\"anchor\":\"y18\",\"domain\":[0.2625,0.475],\"title\":{\"text\":\"Masonry veneer type\"}},\"yaxis18\":{\"anchor\":\"x18\",\"domain\":[0.5702479338842974,0.6198347107438015]},\"xaxis19\":{\"anchor\":\"y19\",\"domain\":[0.525,0.7375],\"title\":{\"text\":\"Exterior material quality\"}},\"yaxis19\":{\"anchor\":\"x19\",\"domain\":[0.5702479338842974,0.6198347107438015]},\"xaxis20\":{\"anchor\":\"y20\",\"domain\":[0.7875,1.0],\"title\":{\"text\":\"Present condition of the material on the exterior\"}},\"yaxis20\":{\"anchor\":\"x20\",\"domain\":[0.5702479338842974,0.6198347107438015]},\"xaxis21\":{\"anchor\":\"y21\",\"domain\":[0.0,0.2125],\"title\":{\"text\":\"Type of foundation\"}},\"yaxis21\":{\"anchor\":\"x21\",\"domain\":[0.4752066115702479,0.524793388429752]},\"xaxis22\":{\"anchor\":\"y22\",\"domain\":[0.2625,0.475],\"title\":{\"text\":\"Height of the basement\"}},\"yaxis22\":{\"anchor\":\"x22\",\"domain\":[0.4752066115702479,0.524793388429752]},\"xaxis23\":{\"anchor\":\"y23\",\"domain\":[0.525,0.7375],\"title\":{\"text\":\"General condition of the basement\"}},\"yaxis23\":{\"anchor\":\"x23\",\"domain\":[0.4752066115702479,0.524793388429752]},\"xaxis24\":{\"anchor\":\"y24\",\"domain\":[0.7875,1.0],\"title\":{\"text\":\"Walkout or garden level basement walls\"}},\"yaxis24\":{\"anchor\":\"x24\",\"domain\":[0.4752066115702479,0.524793388429752]},\"xaxis25\":{\"anchor\":\"y25\",\"domain\":[0.0,0.2125],\"title\":{\"text\":\"Quality of basement finished area\"}},\"yaxis25\":{\"anchor\":\"x25\",\"domain\":[0.3801652892561983,0.42975206611570244]},\"xaxis26\":{\"anchor\":\"y26\",\"domain\":[0.2625,0.475],\"title\":{\"text\":\"Quality of second finished area (if present)\"}},\"yaxis26\":{\"anchor\":\"x26\",\"domain\":[0.3801652892561983,0.42975206611570244]},\"xaxis27\":{\"anchor\":\"y27\",\"domain\":[0.525,0.7375],\"title\":{\"text\":\"Type of heating\"}},\"yaxis27\":{\"anchor\":\"x27\",\"domain\":[0.3801652892561983,0.42975206611570244]},\"xaxis28\":{\"anchor\":\"y28\",\"domain\":[0.7875,1.0],\"title\":{\"text\":\"Heating quality and condition\"}},\"yaxis28\":{\"anchor\":\"x28\",\"domain\":[0.3801652892561983,0.42975206611570244]},\"xaxis29\":{\"anchor\":\"y29\",\"domain\":[0.0,0.2125],\"title\":{\"text\":\"Central air conditioning\"}},\"yaxis29\":{\"anchor\":\"x29\",\"domain\":[0.2851239669421487,0.33471074380165283]},\"xaxis30\":{\"anchor\":\"y30\",\"domain\":[0.2625,0.475],\"title\":{\"text\":\"Electrical system\"}},\"yaxis30\":{\"anchor\":\"x30\",\"domain\":[0.2851239669421487,0.33471074380165283]},\"xaxis31\":{\"anchor\":\"y31\",\"domain\":[0.525,0.7375],\"title\":{\"text\":\"Kitchen quality\"}},\"yaxis31\":{\"anchor\":\"x31\",\"domain\":[0.2851239669421487,0.33471074380165283]},\"xaxis32\":{\"anchor\":\"y32\",\"domain\":[0.7875,1.0],\"title\":{\"text\":\"Home functionality rating\"}},\"yaxis32\":{\"anchor\":\"x32\",\"domain\":[0.2851239669421487,0.33471074380165283]},\"xaxis33\":{\"anchor\":\"y33\",\"domain\":[0.0,0.2125],\"title\":{\"text\":\"Fireplace quality\"}},\"yaxis33\":{\"anchor\":\"x33\",\"domain\":[0.19008264462809915,0.23966942148760328]},\"xaxis34\":{\"anchor\":\"y34\",\"domain\":[0.2625,0.475],\"title\":{\"text\":\"Garage location\"}},\"yaxis34\":{\"anchor\":\"x34\",\"domain\":[0.19008264462809915,0.23966942148760328]},\"xaxis35\":{\"anchor\":\"y35\",\"domain\":[0.525,0.7375],\"title\":{\"text\":\"Interior finish of the garage\"}},\"yaxis35\":{\"anchor\":\"x35\",\"domain\":[0.19008264462809915,0.23966942148760328]},\"xaxis36\":{\"anchor\":\"y36\",\"domain\":[0.7875,1.0],\"title\":{\"text\":\"Garage quality\"}},\"yaxis36\":{\"anchor\":\"x36\",\"domain\":[0.19008264462809915,0.23966942148760328]},\"xaxis37\":{\"anchor\":\"y37\",\"domain\":[0.0,0.2125],\"title\":{\"text\":\"Garage condition\"}},\"yaxis37\":{\"anchor\":\"x37\",\"domain\":[0.09504132231404958,0.1446280991735537]},\"xaxis38\":{\"anchor\":\"y38\",\"domain\":[0.2625,0.475],\"title\":{\"text\":\"Paved driveway\"}},\"yaxis38\":{\"anchor\":\"x38\",\"domain\":[0.09504132231404958,0.1446280991735537]},\"xaxis39\":{\"anchor\":\"y39\",\"domain\":[0.525,0.7375],\"title\":{\"text\":\"Pool quality\"}},\"yaxis39\":{\"anchor\":\"x39\",\"domain\":[0.09504132231404958,0.1446280991735537]},\"xaxis40\":{\"anchor\":\"y40\",\"domain\":[0.7875,1.0],\"title\":{\"text\":\"Fence quality\"}},\"yaxis40\":{\"anchor\":\"x40\",\"domain\":[0.09504132231404958,0.1446280991735537]},\"xaxis41\":{\"anchor\":\"y41\",\"domain\":[0.0,0.2125],\"title\":{\"text\":\"Miscellaneous feature not covered in other categories\"}},\"yaxis41\":{\"anchor\":\"x41\",\"domain\":[0.0,0.04958677685950413]},\"xaxis42\":{\"anchor\":\"y42\",\"domain\":[0.2625,0.475],\"title\":{\"text\":\"Type of sale\"}},\"yaxis42\":{\"anchor\":\"x42\",\"domain\":[0.0,0.04958677685950413]},\"xaxis43\":{\"anchor\":\"y43\",\"domain\":[0.525,0.7375],\"title\":{\"text\":\"Condition of sale\"}},\"yaxis43\":{\"anchor\":\"x43\",\"domain\":[0.0,0.04958677685950413]},\"xaxis44\":{\"anchor\":\"y44\",\"domain\":[0.7875,1.0]},\"yaxis44\":{\"anchor\":\"x44\",\"domain\":[0.0,0.04958677685950413]},\"annotations\":[{\"font\":{\"size\":16},\"showarrow\":false,\"text\":\"MSZoning\",\"x\":0.10625,\"xanchor\":\"center\",\"xref\":\"paper\",\"y\":0.9999999999999999,\"yanchor\":\"bottom\",\"yref\":\"paper\"},{\"font\":{\"size\":16},\"showarrow\":false,\"text\":\"Street\",\"x\":0.36875,\"xanchor\":\"center\",\"xref\":\"paper\",\"y\":0.9999999999999999,\"yanchor\":\"bottom\",\"yref\":\"paper\"},{\"font\":{\"size\":16},\"showarrow\":false,\"text\":\"Alley\",\"x\":0.6312500000000001,\"xanchor\":\"center\",\"xref\":\"paper\",\"y\":0.9999999999999999,\"yanchor\":\"bottom\",\"yref\":\"paper\"},{\"font\":{\"size\":16},\"showarrow\":false,\"text\":\"LotShape\",\"x\":0.89375,\"xanchor\":\"center\",\"xref\":\"paper\",\"y\":0.9999999999999999,\"yanchor\":\"bottom\",\"yref\":\"paper\"},{\"font\":{\"size\":16},\"showarrow\":false,\"text\":\"LandContour\",\"x\":0.10625,\"xanchor\":\"center\",\"xref\":\"paper\",\"y\":0.9049586776859503,\"yanchor\":\"bottom\",\"yref\":\"paper\"},{\"font\":{\"size\":16},\"showarrow\":false,\"text\":\"Utilities\",\"x\":0.36875,\"xanchor\":\"center\",\"xref\":\"paper\",\"y\":0.9049586776859503,\"yanchor\":\"bottom\",\"yref\":\"paper\"},{\"font\":{\"size\":16},\"showarrow\":false,\"text\":\"LotConfig\",\"x\":0.6312500000000001,\"xanchor\":\"center\",\"xref\":\"paper\",\"y\":0.9049586776859503,\"yanchor\":\"bottom\",\"yref\":\"paper\"},{\"font\":{\"size\":16},\"showarrow\":false,\"text\":\"LandSlope\",\"x\":0.89375,\"xanchor\":\"center\",\"xref\":\"paper\",\"y\":0.9049586776859503,\"yanchor\":\"bottom\",\"yref\":\"paper\"},{\"font\":{\"size\":16},\"showarrow\":false,\"text\":\"Neighborhood\",\"x\":0.10625,\"xanchor\":\"center\",\"xref\":\"paper\",\"y\":0.8099173553719007,\"yanchor\":\"bottom\",\"yref\":\"paper\"},{\"font\":{\"size\":16},\"showarrow\":false,\"text\":\"Condition1\",\"x\":0.36875,\"xanchor\":\"center\",\"xref\":\"paper\",\"y\":0.8099173553719007,\"yanchor\":\"bottom\",\"yref\":\"paper\"},{\"font\":{\"size\":16},\"showarrow\":false,\"text\":\"Condition2\",\"x\":0.6312500000000001,\"xanchor\":\"center\",\"xref\":\"paper\",\"y\":0.8099173553719007,\"yanchor\":\"bottom\",\"yref\":\"paper\"},{\"font\":{\"size\":16},\"showarrow\":false,\"text\":\"BldgType\",\"x\":0.89375,\"xanchor\":\"center\",\"xref\":\"paper\",\"y\":0.8099173553719007,\"yanchor\":\"bottom\",\"yref\":\"paper\"},{\"font\":{\"size\":16},\"showarrow\":false,\"text\":\"HouseStyle\",\"x\":0.10625,\"xanchor\":\"center\",\"xref\":\"paper\",\"y\":0.7148760330578511,\"yanchor\":\"bottom\",\"yref\":\"paper\"},{\"font\":{\"size\":16},\"showarrow\":false,\"text\":\"RoofStyle\",\"x\":0.36875,\"xanchor\":\"center\",\"xref\":\"paper\",\"y\":0.7148760330578511,\"yanchor\":\"bottom\",\"yref\":\"paper\"},{\"font\":{\"size\":16},\"showarrow\":false,\"text\":\"RoofMatl\",\"x\":0.6312500000000001,\"xanchor\":\"center\",\"xref\":\"paper\",\"y\":0.7148760330578511,\"yanchor\":\"bottom\",\"yref\":\"paper\"},{\"font\":{\"size\":16},\"showarrow\":false,\"text\":\"Exterior1st\",\"x\":0.89375,\"xanchor\":\"center\",\"xref\":\"paper\",\"y\":0.7148760330578511,\"yanchor\":\"bottom\",\"yref\":\"paper\"},{\"font\":{\"size\":16},\"showarrow\":false,\"text\":\"Exterior2nd\",\"x\":0.10625,\"xanchor\":\"center\",\"xref\":\"paper\",\"y\":0.6198347107438015,\"yanchor\":\"bottom\",\"yref\":\"paper\"},{\"font\":{\"size\":16},\"showarrow\":false,\"text\":\"MasVnrType\",\"x\":0.36875,\"xanchor\":\"center\",\"xref\":\"paper\",\"y\":0.6198347107438015,\"yanchor\":\"bottom\",\"yref\":\"paper\"},{\"font\":{\"size\":16},\"showarrow\":false,\"text\":\"ExterQual\",\"x\":0.6312500000000001,\"xanchor\":\"center\",\"xref\":\"paper\",\"y\":0.6198347107438015,\"yanchor\":\"bottom\",\"yref\":\"paper\"},{\"font\":{\"size\":16},\"showarrow\":false,\"text\":\"ExterCond\",\"x\":0.89375,\"xanchor\":\"center\",\"xref\":\"paper\",\"y\":0.6198347107438015,\"yanchor\":\"bottom\",\"yref\":\"paper\"},{\"font\":{\"size\":16},\"showarrow\":false,\"text\":\"Foundation\",\"x\":0.10625,\"xanchor\":\"center\",\"xref\":\"paper\",\"y\":0.524793388429752,\"yanchor\":\"bottom\",\"yref\":\"paper\"},{\"font\":{\"size\":16},\"showarrow\":false,\"text\":\"BsmtQual\",\"x\":0.36875,\"xanchor\":\"center\",\"xref\":\"paper\",\"y\":0.524793388429752,\"yanchor\":\"bottom\",\"yref\":\"paper\"},{\"font\":{\"size\":16},\"showarrow\":false,\"text\":\"BsmtCond\",\"x\":0.6312500000000001,\"xanchor\":\"center\",\"xref\":\"paper\",\"y\":0.524793388429752,\"yanchor\":\"bottom\",\"yref\":\"paper\"},{\"font\":{\"size\":16},\"showarrow\":false,\"text\":\"BsmtExposure\",\"x\":0.89375,\"xanchor\":\"center\",\"xref\":\"paper\",\"y\":0.524793388429752,\"yanchor\":\"bottom\",\"yref\":\"paper\"},{\"font\":{\"size\":16},\"showarrow\":false,\"text\":\"BsmtFinType1\",\"x\":0.10625,\"xanchor\":\"center\",\"xref\":\"paper\",\"y\":0.42975206611570244,\"yanchor\":\"bottom\",\"yref\":\"paper\"},{\"font\":{\"size\":16},\"showarrow\":false,\"text\":\"BsmtFinType2\",\"x\":0.36875,\"xanchor\":\"center\",\"xref\":\"paper\",\"y\":0.42975206611570244,\"yanchor\":\"bottom\",\"yref\":\"paper\"},{\"font\":{\"size\":16},\"showarrow\":false,\"text\":\"Heating\",\"x\":0.6312500000000001,\"xanchor\":\"center\",\"xref\":\"paper\",\"y\":0.42975206611570244,\"yanchor\":\"bottom\",\"yref\":\"paper\"},{\"font\":{\"size\":16},\"showarrow\":false,\"text\":\"HeatingQC\",\"x\":0.89375,\"xanchor\":\"center\",\"xref\":\"paper\",\"y\":0.42975206611570244,\"yanchor\":\"bottom\",\"yref\":\"paper\"},{\"font\":{\"size\":16},\"showarrow\":false,\"text\":\"CentralAir\",\"x\":0.10625,\"xanchor\":\"center\",\"xref\":\"paper\",\"y\":0.33471074380165283,\"yanchor\":\"bottom\",\"yref\":\"paper\"},{\"font\":{\"size\":16},\"showarrow\":false,\"text\":\"Electrical\",\"x\":0.36875,\"xanchor\":\"center\",\"xref\":\"paper\",\"y\":0.33471074380165283,\"yanchor\":\"bottom\",\"yref\":\"paper\"},{\"font\":{\"size\":16},\"showarrow\":false,\"text\":\"KitchenQual\",\"x\":0.6312500000000001,\"xanchor\":\"center\",\"xref\":\"paper\",\"y\":0.33471074380165283,\"yanchor\":\"bottom\",\"yref\":\"paper\"},{\"font\":{\"size\":16},\"showarrow\":false,\"text\":\"Functional\",\"x\":0.89375,\"xanchor\":\"center\",\"xref\":\"paper\",\"y\":0.33471074380165283,\"yanchor\":\"bottom\",\"yref\":\"paper\"},{\"font\":{\"size\":16},\"showarrow\":false,\"text\":\"FireplaceQu\",\"x\":0.10625,\"xanchor\":\"center\",\"xref\":\"paper\",\"y\":0.23966942148760328,\"yanchor\":\"bottom\",\"yref\":\"paper\"},{\"font\":{\"size\":16},\"showarrow\":false,\"text\":\"GarageType\",\"x\":0.36875,\"xanchor\":\"center\",\"xref\":\"paper\",\"y\":0.23966942148760328,\"yanchor\":\"bottom\",\"yref\":\"paper\"},{\"font\":{\"size\":16},\"showarrow\":false,\"text\":\"GarageFinish\",\"x\":0.6312500000000001,\"xanchor\":\"center\",\"xref\":\"paper\",\"y\":0.23966942148760328,\"yanchor\":\"bottom\",\"yref\":\"paper\"},{\"font\":{\"size\":16},\"showarrow\":false,\"text\":\"GarageQual\",\"x\":0.89375,\"xanchor\":\"center\",\"xref\":\"paper\",\"y\":0.23966942148760328,\"yanchor\":\"bottom\",\"yref\":\"paper\"},{\"font\":{\"size\":16},\"showarrow\":false,\"text\":\"GarageCond\",\"x\":0.10625,\"xanchor\":\"center\",\"xref\":\"paper\",\"y\":0.1446280991735537,\"yanchor\":\"bottom\",\"yref\":\"paper\"},{\"font\":{\"size\":16},\"showarrow\":false,\"text\":\"PavedDrive\",\"x\":0.36875,\"xanchor\":\"center\",\"xref\":\"paper\",\"y\":0.1446280991735537,\"yanchor\":\"bottom\",\"yref\":\"paper\"},{\"font\":{\"size\":16},\"showarrow\":false,\"text\":\"PoolQC\",\"x\":0.6312500000000001,\"xanchor\":\"center\",\"xref\":\"paper\",\"y\":0.1446280991735537,\"yanchor\":\"bottom\",\"yref\":\"paper\"},{\"font\":{\"size\":16},\"showarrow\":false,\"text\":\"Fence\",\"x\":0.89375,\"xanchor\":\"center\",\"xref\":\"paper\",\"y\":0.1446280991735537,\"yanchor\":\"bottom\",\"yref\":\"paper\"},{\"font\":{\"size\":16},\"showarrow\":false,\"text\":\"MiscFeature\",\"x\":0.10625,\"xanchor\":\"center\",\"xref\":\"paper\",\"y\":0.04958677685950413,\"yanchor\":\"bottom\",\"yref\":\"paper\"},{\"font\":{\"size\":16},\"showarrow\":false,\"text\":\"SaleType\",\"x\":0.36875,\"xanchor\":\"center\",\"xref\":\"paper\",\"y\":0.04958677685950413,\"yanchor\":\"bottom\",\"yref\":\"paper\"},{\"font\":{\"size\":16},\"showarrow\":false,\"text\":\"SaleCondition\",\"x\":0.6312500000000001,\"xanchor\":\"center\",\"xref\":\"paper\",\"y\":0.04958677685950413,\"yanchor\":\"bottom\",\"yref\":\"paper\"}],\"title\":{\"text\":\"Categorical Variables vs. AVG SalePrice\"},\"height\":4300},                        {\"responsive\": true}                    ).then(function(){\n",
       "                            \n",
       "var gd = document.getElementById('ed941181-be5f-4789-9774-5a641a489e90');\n",
       "var x = new MutationObserver(function (mutations, observer) {{\n",
       "        var display = window.getComputedStyle(gd).display;\n",
       "        if (!display || display === 'none') {{\n",
       "            console.log([gd, 'removed!']);\n",
       "            Plotly.purge(gd);\n",
       "            observer.disconnect();\n",
       "        }}\n",
       "}});\n",
       "\n",
       "// Listen for the removal of the full notebook cells\n",
       "var notebookContainer = gd.closest('#notebook-container');\n",
       "if (notebookContainer) {{\n",
       "    x.observe(notebookContainer, {childList: true});\n",
       "}}\n",
       "\n",
       "// Listen for the clearing of the current output cell\n",
       "var outputEl = gd.closest('.output');\n",
       "if (outputEl) {{\n",
       "    x.observe(outputEl, {childList: true});\n",
       "}}\n",
       "\n",
       "                        })                };                });            </script>        </div>"
      ]
     },
     "metadata": {},
     "output_type": "display_data"
    }
   ],
   "source": [
    "cat_cols_bar_plots(t, cat_cols, Metadata)"
   ]
  },
  {
   "cell_type": "markdown",
   "id": "aae1ca57",
   "metadata": {
    "execution": {
     "iopub.execute_input": "2023-01-10T04:30:55.177826Z",
     "iopub.status.busy": "2023-01-10T04:30:55.177354Z",
     "iopub.status.idle": "2023-01-10T04:30:55.185962Z",
     "shell.execute_reply": "2023-01-10T04:30:55.184209Z",
     "shell.execute_reply.started": "2023-01-10T04:30:55.177792Z"
    },
    "papermill": {
     "duration": 0.007696,
     "end_time": "2023-01-10T08:01:54.503349",
     "exception": false,
     "start_time": "2023-01-10T08:01:54.495653",
     "status": "completed"
    },
    "tags": []
   },
   "source": [
    "---\n",
    "\n",
    "## Encoding Analysis\n",
    "\n",
    "We use average `SalePrice` for each categorical variable to determine which encoding method is better."
   ]
  },
  {
   "cell_type": "code",
   "execution_count": 13,
   "id": "c02f47be",
   "metadata": {
    "execution": {
     "iopub.execute_input": "2023-01-10T08:01:54.520696Z",
     "iopub.status.busy": "2023-01-10T08:01:54.520268Z",
     "iopub.status.idle": "2023-01-10T08:01:54.543875Z",
     "shell.execute_reply": "2023-01-10T08:01:54.542410Z"
    },
    "papermill": {
     "duration": 0.035976,
     "end_time": "2023-01-10T08:01:54.546914",
     "exception": false,
     "start_time": "2023-01-10T08:01:54.510938",
     "status": "completed"
    },
    "tags": []
   },
   "outputs": [],
   "source": [
    "# temp fillna\n",
    "X = t.copy()\n",
    "y = X.pop(\"SalePrice\")\n",
    "\n",
    "X.fillna(method='bfill', inplace=True)"
   ]
  },
  {
   "cell_type": "code",
   "execution_count": 14,
   "id": "ca615c52",
   "metadata": {
    "execution": {
     "iopub.execute_input": "2023-01-10T08:01:54.564626Z",
     "iopub.status.busy": "2023-01-10T08:01:54.564172Z",
     "iopub.status.idle": "2023-01-10T08:01:54.610367Z",
     "shell.execute_reply": "2023-01-10T08:01:54.609193Z"
    },
    "papermill": {
     "duration": 0.058779,
     "end_time": "2023-01-10T08:01:54.613418",
     "exception": false,
     "start_time": "2023-01-10T08:01:54.554639",
     "status": "completed"
    },
    "tags": []
   },
   "outputs": [],
   "source": [
    "# Label encoding for categoricals\n",
    "for colname in X.select_dtypes(\"object\"):\n",
    "    X[colname], _ = X[colname].factorize()\n",
    "\n",
    "# All discrete features should now have integer dtypes (double-check this before using MI!)\n",
    "discrete_features = X.dtypes == int"
   ]
  },
  {
   "cell_type": "code",
   "execution_count": 15,
   "id": "077d0046",
   "metadata": {
    "execution": {
     "iopub.execute_input": "2023-01-10T08:01:54.631547Z",
     "iopub.status.busy": "2023-01-10T08:01:54.631066Z",
     "iopub.status.idle": "2023-01-10T08:01:55.385472Z",
     "shell.execute_reply": "2023-01-10T08:01:55.384217Z"
    },
    "papermill": {
     "duration": 0.76638,
     "end_time": "2023-01-10T08:01:55.388073",
     "exception": false,
     "start_time": "2023-01-10T08:01:54.621693",
     "status": "completed"
    },
    "tags": []
   },
   "outputs": [
    {
     "data": {
      "text/plain": [
       "OverallQual      0.572523\n",
       "GarageCars       0.370158\n",
       "GarageArea       0.360352\n",
       "KitchenQual      0.316640\n",
       "GarageFinish     0.266244\n",
       "GarageYrBlt      0.230231\n",
       "FireplaceQu      0.202942\n",
       "HeatingQC        0.164865\n",
       "Exterior2nd      0.157710\n",
       "BsmtFinSF1       0.149293\n",
       "Exterior1st      0.122533\n",
       "OverallCond      0.107026\n",
       "LotShape         0.090368\n",
       "HouseStyle       0.083416\n",
       "CentralAir       0.072184\n",
       "GarageQual       0.066515\n",
       "BsmtCond         0.047469\n",
       "LandContour      0.036016\n",
       "EnclosedPorch    0.023762\n",
       "RoofStyle        0.016921\n",
       "BsmtFinSF2       0.011701\n",
       "KitchenAbvGr     0.004040\n",
       "PoolQC           0.002639\n",
       "MoSold           0.000000\n",
       "Utilities        0.000000\n",
       "LowQualFinSF     0.000000\n",
       "RoofMatl         0.000000\n",
       "Name: MI Scores, dtype: float64"
      ]
     },
     "execution_count": 15,
     "metadata": {},
     "output_type": "execute_result"
    }
   ],
   "source": [
    "def make_mi_scores(X, y, discrete_features):\n",
    "    mi_scores = mutual_info_regression(X, y, discrete_features=discrete_features)\n",
    "    mi_scores = pd.Series(mi_scores, name=\"MI Scores\", index=X.columns)\n",
    "    mi_scores = mi_scores.sort_values(ascending=False)\n",
    "\n",
    "    return mi_scores\n",
    "\n",
    "# mi_scores = make_mi_scores(X[discrete_features.index], y, discrete_features=discrete_features)\n",
    "mi_scores = make_mi_scores(X[discrete_features.index], y, discrete_features='auto')\n",
    "mi_scores[::3]  # show a few features with their MI scores"
   ]
  },
  {
   "cell_type": "code",
   "execution_count": 16,
   "id": "a422990d",
   "metadata": {
    "execution": {
     "iopub.execute_input": "2023-01-10T08:01:55.405793Z",
     "iopub.status.busy": "2023-01-10T08:01:55.405302Z",
     "iopub.status.idle": "2023-01-10T08:01:57.091510Z",
     "shell.execute_reply": "2023-01-10T08:01:57.090093Z"
    },
    "papermill": {
     "duration": 1.69967,
     "end_time": "2023-01-10T08:01:57.095639",
     "exception": false,
     "start_time": "2023-01-10T08:01:55.395969",
     "status": "completed"
    },
    "tags": []
   },
   "outputs": [
    {
     "data": {
      "image/png": "[encoded data removed]",
      "text/plain": [
       "<Figure size 2000x1500 with 1 Axes>"
      ]
     },
     "metadata": {
      "needs_background": "light"
     },
     "output_type": "display_data"
    }
   ],
   "source": [
    "def plot_mi_scores(scores):\n",
    "    scores.sort_values(ascending=True)\n",
    "    width = np.arange(len(scores))\n",
    "    ticks = list(scores.index)\n",
    "    plt.barh(width, scores)\n",
    "    plt.yticks(width, ticks)\n",
    "    plt.title(\"Mutual Information Scores\")\n",
    "    \n",
    "plt.figure(dpi=100, figsize=(20, 15))\n",
    "plot_mi_scores(mi_scores)"
   ]
  },
  {
   "cell_type": "code",
   "execution_count": null,
   "id": "c53578ac",
   "metadata": {
    "papermill": {
     "duration": 0.00962,
     "end_time": "2023-01-10T08:01:57.115495",
     "exception": false,
     "start_time": "2023-01-10T08:01:57.105875",
     "status": "completed"
    },
    "tags": []
   },
   "outputs": [],
   "source": []
  }
 ],
 "metadata": {
  "kernelspec": {
   "display_name": "Python 3",
   "language": "python",
   "name": "python3"
  },
  "language_info": {
   "codemirror_mode": {
    "name": "ipython",
    "version": 3
   },
   "file_extension": ".py",
   "mimetype": "text/x-python",
   "name": "python",
   "nbconvert_exporter": "python",
   "pygments_lexer": "ipython3",
   "version": "3.7.12"
  },
  "papermill": {
   "default_parameters": {},
   "duration": 19.00486,
   "end_time": "2023-01-10T08:01:58.149944",
   "environment_variables": {},
   "exception": null,
   "input_path": "__notebook__.ipynb",
   "output_path": "__notebook__.ipynb",
   "parameters": {},
   "start_time": "2023-01-10T08:01:39.145084",
   "version": "2.3.4"
  }
 },
 "nbformat": 4,
 "nbformat_minor": 5
}
