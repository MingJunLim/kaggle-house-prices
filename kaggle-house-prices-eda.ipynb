{
 "cells": [
  {
   "cell_type": "markdown",
   "id": "15e9d985",
   "metadata": {
    "papermill": {
     "duration": 0.004463,
     "end_time": "2023-01-05T07:02:29.696462",
     "exception": false,
     "start_time": "2023-01-05T07:02:29.691999",
     "status": "completed"
    },
    "tags": []
   },
   "source": [
    "## Intro\n",
    "\n",
    "- Kaggle Project: [House Prices - Advanced Regression Techniques](https://www.kaggle.com/competitions/house-prices-advanced-regression-techniques/overview). Predict sales prices and practice feature engineering, RFs, and gradient boosting.\n",
    "- Team: Yummy Donuts from [Data Donut](https://discord.gg/7fkzYbDxAh)\n",
    "  - [Tina Yu](https://github.com/TinaHTYu)\n",
    "  - [Zacks Shen](https://github.com/ZacksAmber)\n",
    "- [Dataset Description](https://www.kaggle.com/competitions/house-prices-advanced-regression-techniques/data)"
   ]
  },
  {
   "cell_type": "code",
   "execution_count": 1,
   "id": "06751d31",
   "metadata": {
    "_cell_guid": "b1076dfc-b9ad-4769-8c92-a6c4dae69d19",
    "_uuid": "8f2839f25d086af736a60e9eeb907d3b93b6e0e5",
    "execution": {
     "iopub.execute_input": "2023-01-05T07:02:29.705866Z",
     "iopub.status.busy": "2023-01-05T07:02:29.705160Z",
     "iopub.status.idle": "2023-01-05T07:02:29.723757Z",
     "shell.execute_reply": "2023-01-05T07:02:29.722523Z"
    },
    "papermill": {
     "duration": 0.027212,
     "end_time": "2023-01-05T07:02:29.726970",
     "exception": false,
     "start_time": "2023-01-05T07:02:29.699758",
     "status": "completed"
    },
    "tags": []
   },
   "outputs": [
    {
     "name": "stdout",
     "output_type": "stream",
     "text": [
      "/kaggle/input/house-prices-advanced-regression-techniques/sample_submission.csv\n",
      "/kaggle/input/house-prices-advanced-regression-techniques/data_description.txt\n",
      "/kaggle/input/house-prices-advanced-regression-techniques/train.csv\n",
      "/kaggle/input/house-prices-advanced-regression-techniques/test.csv\n"
     ]
    }
   ],
   "source": [
    "# This Python 3 environment comes with many helpful analytics libraries installed\n",
    "# It is defined by the kaggle/python Docker image: https://github.com/kaggle/docker-python\n",
    "# For example, here's several helpful packages to load\n",
    "\n",
    "import numpy as np # linear algebra\n",
    "import pandas as pd # data processing, CSV file I/O (e.g. pd.read_csv)\n",
    "\n",
    "# Input data files are available in the read-only \"../input/\" directory\n",
    "# For example, running this (by clicking run or pressing Shift+Enter) will list all files under the input directory\n",
    "\n",
    "import os\n",
    "for dirname, _, filenames in os.walk('/kaggle/input'):\n",
    "    for filename in filenames:\n",
    "        print(os.path.join(dirname, filename))\n",
    "\n",
    "# You can write up to 20GB to the current directory (/kaggle/working/) that gets preserved as output when you create a version using \"Save & Run All\" \n",
    "# You can also write temporary files to /kaggle/temp/, but they won't be saved outside of the current session"
   ]
  },
  {
   "cell_type": "code",
   "execution_count": 2,
   "id": "903860cb",
   "metadata": {
    "execution": {
     "iopub.execute_input": "2023-01-05T07:02:29.735698Z",
     "iopub.status.busy": "2023-01-05T07:02:29.734883Z",
     "iopub.status.idle": "2023-01-05T07:02:29.782989Z",
     "shell.execute_reply": "2023-01-05T07:02:29.781777Z"
    },
    "papermill": {
     "duration": 0.055585,
     "end_time": "2023-01-05T07:02:29.785965",
     "exception": false,
     "start_time": "2023-01-05T07:02:29.730380",
     "status": "completed"
    },
    "tags": []
   },
   "outputs": [],
   "source": [
    "train = pd.read_csv('/kaggle/input/house-prices-advanced-regression-techniques/train.csv')\n",
    "# test = pd.read_csv('/kaggle/input/house-prices-advanced-regression-techniques/test.csv')"
   ]
  },
  {
   "cell_type": "markdown",
   "id": "910d18bc",
   "metadata": {
    "papermill": {
     "duration": 0.002668,
     "end_time": "2023-01-05T07:02:29.791915",
     "exception": false,
     "start_time": "2023-01-05T07:02:29.789247",
     "status": "completed"
    },
    "tags": []
   },
   "source": [
    "---\n",
    "\n",
    "## Metadata"
   ]
  },
  {
   "cell_type": "code",
   "execution_count": 3,
   "id": "fe0a957f",
   "metadata": {
    "execution": {
     "iopub.execute_input": "2023-01-05T07:02:29.801023Z",
     "iopub.status.busy": "2023-01-05T07:02:29.799388Z",
     "iopub.status.idle": "2023-01-05T07:02:29.808776Z",
     "shell.execute_reply": "2023-01-05T07:02:29.807597Z"
    },
    "papermill": {
     "duration": 0.016357,
     "end_time": "2023-01-05T07:02:29.811252",
     "exception": false,
     "start_time": "2023-01-05T07:02:29.794895",
     "status": "completed"
    },
    "tags": []
   },
   "outputs": [],
   "source": [
    "# meta_data is from https://www.kaggle.com/competitions/house-prices-advanced-regression-techniques/data\n",
    "metadata = \"\"\"\n",
    "SalePrice - the property's sale price in dollars. This is the target variable that you're trying to predict.\n",
    "MSSubClass: The building class\n",
    "MSZoning: The general zoning classification\n",
    "LotFrontage: Linear feet of street connected to property\n",
    "LotArea: Lot size in square feet\n",
    "Street: Type of road access\n",
    "Alley: Type of alley access\n",
    "LotShape: General shape of property\n",
    "LandContour: Flatness of the property\n",
    "Utilities: Type of utilities available\n",
    "LotConfig: Lot configuration\n",
    "LandSlope: Slope of property\n",
    "Neighborhood: Physical locations within Ames city limits\n",
    "Condition1: Proximity to main road or railroad\n",
    "Condition2: Proximity to main road or railroad (if a second is present)\n",
    "BldgType: Type of dwelling\n",
    "HouseStyle: Style of dwelling\n",
    "OverallQual: Overall material and finish quality\n",
    "OverallCond: Overall condition rating\n",
    "YearBuilt: Original construction date\n",
    "YearRemodAdd: Remodel date\n",
    "RoofStyle: Type of roof\n",
    "RoofMatl: Roof material\n",
    "Exterior1st: Exterior covering on house\n",
    "Exterior2nd: Exterior covering on house (if more than one material)\n",
    "MasVnrType: Masonry veneer type\n",
    "MasVnrArea: Masonry veneer area in square feet\n",
    "ExterQual: Exterior material quality\n",
    "ExterCond: Present condition of the material on the exterior\n",
    "Foundation: Type of foundation\n",
    "BsmtQual: Height of the basement\n",
    "BsmtCond: General condition of the basement\n",
    "BsmtExposure: Walkout or garden level basement walls\n",
    "BsmtFinType1: Quality of basement finished area\n",
    "BsmtFinSF1: Type 1 finished square feet\n",
    "BsmtFinType2: Quality of second finished area (if present)\n",
    "BsmtFinSF2: Type 2 finished square feet\n",
    "BsmtUnfSF: Unfinished square feet of basement area\n",
    "TotalBsmtSF: Total square feet of basement area\n",
    "Heating: Type of heating\n",
    "HeatingQC: Heating quality and condition\n",
    "CentralAir: Central air conditioning\n",
    "Electrical: Electrical system\n",
    "1stFlrSF: First Floor square feet\n",
    "2ndFlrSF: Second floor square feet\n",
    "LowQualFinSF: Low quality finished square feet (all floors)\n",
    "GrLivArea: Above grade (ground) living area square feet\n",
    "BsmtFullBath: Basement full bathrooms\n",
    "BsmtHalfBath: Basement half bathrooms\n",
    "FullBath: Full bathrooms above grade\n",
    "HalfBath: Half baths above grade\n",
    "Bedroom: Number of bedrooms above basement level\n",
    "Kitchen: Number of kitchens\n",
    "KitchenQual: Kitchen quality\n",
    "TotRmsAbvGrd: Total rooms above grade (does not include bathrooms)\n",
    "Functional: Home functionality rating\n",
    "Fireplaces: Number of fireplaces\n",
    "FireplaceQu: Fireplace quality\n",
    "GarageType: Garage location\n",
    "GarageYrBlt: Year garage was built\n",
    "GarageFinish: Interior finish of the garage\n",
    "GarageCars: Size of garage in car capacity\n",
    "GarageArea: Size of garage in square feet\n",
    "GarageQual: Garage quality\n",
    "GarageCond: Garage condition\n",
    "PavedDrive: Paved driveway\n",
    "WoodDeckSF: Wood deck area in square feet\n",
    "OpenPorchSF: Open porch area in square feet\n",
    "EnclosedPorch: Enclosed porch area in square feet\n",
    "3SsnPorch: Three season porch area in square feet\n",
    "ScreenPorch: Screen porch area in square feet\n",
    "PoolArea: Pool area in square feet\n",
    "PoolQC: Pool quality\n",
    "Fence: Fence quality\n",
    "MiscFeature: Miscellaneous feature not covered in other categories\n",
    "MiscVal: $Value of miscellaneous feature\n",
    "MoSold: Month Sold\n",
    "YrSold: Year Sold\n",
    "SaleType: Type of sale\n",
    "SaleCondition: Condition of sale\n",
    "\"\"\""
   ]
  },
  {
   "cell_type": "code",
   "execution_count": 4,
   "id": "dab8a387",
   "metadata": {
    "execution": {
     "iopub.execute_input": "2023-01-05T07:02:29.819211Z",
     "iopub.status.busy": "2023-01-05T07:02:29.818759Z",
     "iopub.status.idle": "2023-01-05T07:02:29.855551Z",
     "shell.execute_reply": "2023-01-05T07:02:29.854049Z"
    },
    "papermill": {
     "duration": 0.044285,
     "end_time": "2023-01-05T07:02:29.858758",
     "exception": false,
     "start_time": "2023-01-05T07:02:29.814473",
     "status": "completed"
    },
    "tags": []
   },
   "outputs": [],
   "source": [
    "def get_lines(string):\n",
    "    cols, descs, data_types = [], [], []\n",
    "    train_cols = train.columns\n",
    "    \n",
    "    # Split the string on the newline character to create a list of lines\n",
    "    lines = string.split('\\n')\n",
    "    \n",
    "    # Split each line into c and d for col and desc\n",
    "    col, desc = lines[1].split(' - ')\n",
    "    cols.append(col)\n",
    "    descs.append(desc)\n",
    "    data_type = str(train[col].dtype)\n",
    "    data_types.append(data_type)\n",
    "    # Split each line into c and d for col and desc\n",
    "    for line in lines[2:]:  # Skip 0th: empty line; skip 1st: SalePrice - \n",
    "        if line != '':\n",
    "            col, desc = line.split(': ')\n",
    "            if col in train_cols:\n",
    "                data_type = str(train[col].dtype)\n",
    "            # Two cols don't have same names in train, Bedroom - BedroomAbvGr, Kitchen - KitchenAbvGr(52, 53)\n",
    "            elif col == 'Bedroom':\n",
    "                # We make the source data's col as the final col name\n",
    "                col = 'BedroomAbvGr'\n",
    "                data_type = str(train['BedroomAbvGr'].dtype)\n",
    "            elif col == 'Kitchen':\n",
    "                col = 'KitchenAbvGr'\n",
    "                data_type = str(train['KitchenAbvGr'].dtype)\n",
    "            cols.append(col)\n",
    "            descs.append(desc)\n",
    "            data_types.append(data_type)\n",
    "    \n",
    "    df = pd.DataFrame({'col': cols, 'desc': descs, 'source data type': data_types})\n",
    "    \n",
    "    return df\n",
    "\n",
    "df = get_lines(metadata)\n",
    "# Download this file from Kaggle notebook Output (see right panel),\n",
    "# then copy and paste the file content to a Google sheet\n",
    "# See https://docs.google.com/spreadsheets/d/1a9Xujf0RRGkbuMQxRL378L0dNUcwc2bz-GVxzeTmsT4\n",
    "df.to_csv('meta_data.csv')"
   ]
  },
  {
   "cell_type": "code",
   "execution_count": null,
   "id": "ece84cb7",
   "metadata": {
    "papermill": {
     "duration": 0.002594,
     "end_time": "2023-01-05T07:02:29.864847",
     "exception": false,
     "start_time": "2023-01-05T07:02:29.862253",
     "status": "completed"
    },
    "tags": []
   },
   "outputs": [],
   "source": []
  }
 ],
 "metadata": {
  "kernelspec": {
   "display_name": "Python 3",
   "language": "python",
   "name": "python3"
  },
  "language_info": {
   "codemirror_mode": {
    "name": "ipython",
    "version": 3
   },
   "file_extension": ".py",
   "mimetype": "text/x-python",
   "name": "python",
   "nbconvert_exporter": "python",
   "pygments_lexer": "ipython3",
   "version": "3.7.12"
  },
  "papermill": {
   "default_parameters": {},
   "duration": 12.164319,
   "end_time": "2023-01-05T07:02:30.794482",
   "environment_variables": {},
   "exception": null,
   "input_path": "__notebook__.ipynb",
   "output_path": "__notebook__.ipynb",
   "parameters": {},
   "start_time": "2023-01-05T07:02:18.630163",
   "version": "2.3.4"
  }
 },
 "nbformat": 4,
 "nbformat_minor": 5
}
